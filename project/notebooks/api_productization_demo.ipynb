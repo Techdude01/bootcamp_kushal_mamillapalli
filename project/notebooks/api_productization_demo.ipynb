{
 "cells": [
  {
   "cell_type": "markdown",
   "id": "a1a3236f",
   "metadata": {},
   "source": [
    "# Stage 13: Productization — Fraud Detection API Demo\n",
    "\n",
    "This notebook demonstrates how to prepare the fraud detection project for reuse, handoff, and deployment. It includes examples of loading/training the model, launching the Flask API, and testing endpoints.\n"
   ]
  },
  {
   "cell_type": "markdown",
   "id": "dcbf9096",
   "metadata": {},
   "source": [
    "## 1. Setup and Load/Train Model\n"
   ]
  },
  {
   "cell_type": "code",
   "execution_count": 1,
   "id": "473b3954",
   "metadata": {},
   "outputs": [
    {
     "name": "stdout",
     "output_type": "stream",
     "text": [
      "PROJECT_ROOT: /Users/Kushal/FRE/bootcamp_kushal_mamillapalli/project\n",
      "Current working directory: /Users/Kushal/FRE/bootcamp_kushal_mamillapalli/project/notebooks\n"
     ]
    }
   ],
   "source": [
    "from pathlib import Path\n",
    "import os, sys, time, json, subprocess, signal\n",
    "import requests\n",
    "import joblib\n",
    "\n",
    "# Find project root (assuming notebook is in project/notebooks/)\n",
    "PROJECT_ROOT = Path.cwd().parent\n",
    "if str(PROJECT_ROOT) not in sys.path:\n",
    "    sys.path.insert(0, str(PROJECT_ROOT))\n",
    "\n",
    "print('PROJECT_ROOT:', PROJECT_ROOT)\n",
    "print('Current working directory:', Path.cwd())\n"
   ]
  },
  {
   "cell_type": "code",
   "execution_count": 2,
   "id": "3f1b4869",
   "metadata": {},
   "outputs": [
    {
     "name": "stdout",
     "output_type": "stream",
     "text": [
      "MODEL_PATH (from model_service): /Users/Kushal/FRE/bootcamp_kushal_mamillapalli/project/model/model.pkl\n",
      "MODEL_PATH exists: True\n",
      "APP_PATH exists: True\n",
      "Project root (from model_service): /Users/Kushal/FRE/bootcamp_kushal_mamillapalli/project\n",
      "Model already present at /Users/Kushal/FRE/bootcamp_kushal_mamillapalli/project/model/model.pkl\n"
     ]
    }
   ],
   "source": [
    "# Import all functions from model_service.py (exact imports from app.py)\n",
    "from src.model_service import (\n",
    "    FEATURE_COLUMNS,\n",
    "    find_default_dataset,\n",
    "    load_dataset,\n",
    "    load_model,\n",
    "    predict_label,\n",
    "    predict_proba,\n",
    "    train_and_save,\n",
    "    get_project_root,\n",
    "    get_model_dir,\n",
    "    get_default_model_path,\n",
    ")\n",
    "\n",
    "# Use the exact path functions from model_service.py\n",
    "MODEL_PATH = get_default_model_path()  # Uses model_service function\n",
    "APP_PATH = PROJECT_ROOT / 'app.py'\n",
    "\n",
    "print('MODEL_PATH (from model_service):', MODEL_PATH)\n",
    "print('MODEL_PATH exists:', MODEL_PATH.exists())\n",
    "print('APP_PATH exists:', APP_PATH.exists())\n",
    "print('Project root (from model_service):', get_project_root())\n",
    "\n",
    "# Use the exact train_and_save function from model_service.py\n",
    "if not MODEL_PATH.exists():\n",
    "    print('No model found. Training and saving using model_service.train_and_save()...')\n",
    "    info = train_and_save()  # Uses default dataset finding from model_service\n",
    "    print('Training completed:', info)\n",
    "else:\n",
    "    print('Model already present at', MODEL_PATH)\n"
   ]
  },
  {
   "cell_type": "markdown",
   "id": "89bcdc38",
   "metadata": {},
   "source": [
    "## 2. Test Model and Define Prediction Function\n"
   ]
  },
  {
   "cell_type": "code",
   "execution_count": null,
   "id": "526112dd",
   "metadata": {},
   "outputs": [
    {
     "name": "stdout",
     "output_type": "stream",
     "text": [
      "Loaded model; feature count: 30\n",
      "Required features: ['Time', 'V1', 'V2', 'V3', 'V4'] ...\n",
      "Feature columns from model_service: ['Time', 'V1', 'V2', 'V3', 'V4'] ...\n",
      "Fraud prediction test: {'probability': 1.0, 'prediction': 1, 'threshold': 0.5, 'features_used': {'Amount': 123.45, 'Time': 10}}\n",
      "\n",
      "Testing train_and_save function...\n",
      "Found dataset: /Users/Kushal/FRE/bootcamp_kushal_mamillapalli/project/data/processed/fraud_kaggle_creditcard_source-kaggle_dataset-creditcardfraud_20250820-213245_cleaned.csv\n"
     ]
    },
    {
     "name": "stderr",
     "output_type": "stream",
     "text": [
      "/Users/Kushal/miniconda3/envs/fe-course/lib/python3.11/site-packages/sklearn/utils/validation.py:2749: UserWarning: X does not have valid feature names, but StandardScaler was fitted with feature names\n",
      "  warnings.warn(\n",
      "/Users/Kushal/miniconda3/envs/fe-course/lib/python3.11/site-packages/sklearn/utils/validation.py:2749: UserWarning: X does not have valid feature names, but StandardScaler was fitted with feature names\n",
      "  warnings.warn(\n"
     ]
    },
    {
     "name": "stdout",
     "output_type": "stream",
     "text": [
      "Training result: {'model_path': '/Users/Kushal/FRE/bootcamp_kushal_mamillapalli/project/model/model.pkl', 'pr_auc': '0.7190', 'f1': '0.1144', 'precision': '0.0610', 'recall': '0.9184'}\n"
     ]
    }
   ],
   "source": [
    "# Load the model using model_service.py functions\n",
    "model, feats = load_model()  # Uses default path from model_service\n",
    "print('Loaded model; feature count:', len(feats))\n",
    "print('Required features:', feats[:5], '...')\n",
    "print('Feature columns from model_service:', FEATURE_COLUMNS[:5], '...')\n",
    "\n",
    "def predict_fraud(amount=100.0, time=0.0, threshold=0.5):\n",
    "    \"\"\"\n",
    "    Predict fraud using model_service functions.\n",
    "    Uses the exact predict_proba and predict_label functions from model_service.py\n",
    "    \"\"\"\n",
    "    # Create a row using the exact FEATURE_COLUMNS from model_service\n",
    "    row = {c: 0.0 for c in FEATURE_COLUMNS}\n",
    "    row['Amount'] = float(amount)\n",
    "    row['Time'] = float(time)\n",
    "    \n",
    "    # Use the exact functions from model_service.py\n",
    "    probs = predict_proba(model, [row], feats)\n",
    "    labels = predict_label(model, [row], feats, threshold=threshold)\n",
    "    \n",
    "    return {\n",
    "        'probability': probs[0], \n",
    "        'prediction': labels[0], \n",
    "        'threshold': threshold,\n",
    "        'features_used': {'Amount': amount, 'Time': time}\n",
    "    }\n",
    "\n",
    "\n",
    "# Test the function using model_service functions\n",
    "result = predict_fraud(amount=123.45, time=10)\n",
    "print('Fraud prediction test:', result)\n",
    "\n",
    "# Test the train_and_save function from model_service\n",
    "print('\\nTesting train_and_save function...')\n",
    "try:\n",
    "    dataset_path = find_default_dataset()\n",
    "    print('Found dataset:', dataset_path)\n",
    "    \n",
    "    # This will train and save if model doesn't exist, or just return info if it does\n",
    "    training_result = train_and_save()\n",
    "    print('Training result:', training_result)\n",
    "except Exception as e:\n",
    "    print('Training test failed:', e)\n"
   ]
  },
  {
   "cell_type": "markdown",
   "id": "ec2dbe6a",
   "metadata": {},
   "source": [
    "## 3. Launch Flask API and Test Endpoints\n"
   ]
  },
  {
   "cell_type": "code",
   "execution_count": 4,
   "id": "74929ad9",
   "metadata": {},
   "outputs": [
    {
     "name": "stdout",
     "output_type": "stream",
     "text": [
      "Flask already running, stopping first...\n",
      "Launching Flask API from /Users/Kushal/FRE/bootcamp_kushal_mamillapalli/project/app.py\n",
      "Started Flask (pid 6323)\n",
      "Flask process terminated unexpectedly!\n",
      "Process output:  * Serving Flask app 'app'\n",
      " * Debug mode: on\n",
      "Address already in use\n",
      "Port 8000 is in use by another program. Either identify and stop that program, or start the server with a different port.\n",
      "\n",
      "Process errors: None\n",
      "✓ Health check successful: 200 {'status': 'ok'}\n"
     ]
    }
   ],
   "source": [
    "# Check if Flask is already running and kill if necessary\n",
    "try:\n",
    "    test_resp = requests.get('http://127.0.0.1:8000/health', timeout=2)\n",
    "    print('Flask already running, stopping first...')\n",
    "    # Try to stop gracefully, but if we can't access proc, we'll start a new one anyway\n",
    "except:\n",
    "    print('No Flask server detected on port 8000')\n",
    "\n",
    "# Launch Flask API in background subprocess\n",
    "print('Launching Flask API from', APP_PATH)\n",
    "proc = subprocess.Popen(\n",
    "    [sys.executable, str(APP_PATH)],\n",
    "    cwd=str(PROJECT_ROOT),\n",
    "    stdout=subprocess.PIPE,\n",
    "    stderr=subprocess.STDOUT,\n",
    "    text=True,\n",
    ")\n",
    "print(f'Started Flask (pid {proc.pid})')\n",
    "\n",
    "# Wait longer for server to start and check output\n",
    "time.sleep(5)\n",
    "\n",
    "# Check if process is still running\n",
    "if proc.poll() is not None:\n",
    "    print('Flask process terminated unexpectedly!')\n",
    "    stdout, stderr = proc.communicate()\n",
    "    print('Process output:', stdout)\n",
    "    print('Process errors:', stderr)\n",
    "else:\n",
    "    print('Flask process still running')\n",
    "\n",
    "# Health check with more detailed error info\n",
    "try:\n",
    "    r = requests.get('http://127.0.0.1:8000/health', timeout=5)\n",
    "    print('✓ Health check successful:', r.status_code, r.json())\n",
    "except requests.exceptions.ConnectionError as e:\n",
    "    print('✗ Connection refused - Flask server not responding')\n",
    "    print('Check that Flask started successfully above')\n",
    "    # Try to get process output for debugging\n",
    "    if proc.poll() is not None:\n",
    "        stdout, stderr = proc.communicate()\n",
    "        print('Flask process output:', stdout)\n",
    "except Exception as e:\n",
    "    print('✗ Health check failed with error:', e)\n"
   ]
  },
  {
   "cell_type": "markdown",
   "id": "18d8a39f",
   "metadata": {},
   "source": [
    "### Troubleshooting: Run this cell if Flask failed to start\n"
   ]
  },
  {
   "cell_type": "code",
   "execution_count": 5,
   "id": "9ba8c5f9",
   "metadata": {},
   "outputs": [
    {
     "name": "stdout",
     "output_type": "stream",
     "text": [
      "Checking app.py...\n",
      "APP_PATH exists: True\n",
      "app.py size: 4292 characters\n",
      "Contains Flask app: True\n",
      "\n",
      "Alternative: You can manually run Flask in terminal:\n",
      "cd /Users/Kushal/FRE/bootcamp_kushal_mamillapalli/project\n",
      "conda activate fe-course\n",
      "python app.py\n",
      "\n",
      "Checking port 8000...\n",
      "Port 8000 is in use\n",
      "\n",
      "Testing model_service functions directly...\n",
      "✓ Model loads successfully\n",
      "✓ Direct prediction works: prob=1.0000, label=1\n",
      "\n",
      "=== If Flask still fails ===\n",
      "1. Make sure you are in the fe-course conda environment\n",
      "2. Check that Flask is installed: pip list | grep -i flask\n",
      "3. Try running the app manually in terminal as shown above\n",
      "4. The model_service functions work directly (see test above)\n",
      "5. You can proceed with the rest of the notebook using direct function calls\n"
     ]
    },
    {
     "name": "stderr",
     "output_type": "stream",
     "text": [
      "/Users/Kushal/miniconda3/envs/fe-course/lib/python3.11/site-packages/sklearn/utils/validation.py:2749: UserWarning: X does not have valid feature names, but StandardScaler was fitted with feature names\n",
      "  warnings.warn(\n",
      "/Users/Kushal/miniconda3/envs/fe-course/lib/python3.11/site-packages/sklearn/utils/validation.py:2749: UserWarning: X does not have valid feature names, but StandardScaler was fitted with feature names\n",
      "  warnings.warn(\n"
     ]
    }
   ],
   "source": [
    "# Troubleshooting: run this cell if Flask server failed to start\n",
    "\n",
    "# 1. Check if the app.py file exists and is valid\n",
    "print('Checking app.py...')\n",
    "print('APP_PATH exists:', APP_PATH.exists())\n",
    "if APP_PATH.exists():\n",
    "    with open(APP_PATH, 'r') as f:\n",
    "        content = f.read()\n",
    "        print(f'app.py size: {len(content)} characters')\n",
    "        print('Contains Flask app:', 'Flask(__name__)' in content)\n",
    "\n",
    "# 2. Try running Flask directly in the terminal (alternative method)\n",
    "print('\\nAlternative: You can manually run Flask in terminal:')\n",
    "print(f'cd {PROJECT_ROOT}')\n",
    "print('conda activate fe-course')\n",
    "print('python app.py')\n",
    "\n",
    "# 3. Check what's using port 8000\n",
    "print('\\nChecking port 8000...')\n",
    "import socket\n",
    "sock = socket.socket(socket.AF_INET, socket.SOCK_STREAM)\n",
    "result = sock.connect_ex(('127.0.0.1', 8000))\n",
    "sock.close()\n",
    "if result == 0:\n",
    "    print('Port 8000 is in use')\n",
    "else:\n",
    "    print('Port 8000 is available')\n",
    "\n",
    "# 4. Test model_service functions directly (without Flask)\n",
    "print('\\nTesting model_service functions directly...')\n",
    "try:\n",
    "    # Test that model exists and can be loaded\n",
    "    model_check, feats_check = load_model()\n",
    "    print('✓ Model loads successfully')\n",
    "    \n",
    "    # Test prediction without Flask\n",
    "    test_row = {c: 0.0 for c in FEATURE_COLUMNS}\n",
    "    test_row['Amount'] = 100.0\n",
    "    \n",
    "    probs = predict_proba(model_check, [test_row], feats_check)\n",
    "    labels = predict_label(model_check, [test_row], feats_check)\n",
    "    \n",
    "    print(f'✓ Direct prediction works: prob={probs[0]:.4f}, label={labels[0]}')\n",
    "    \n",
    "except Exception as e:\n",
    "    print('✗ Model service error:', e)\n",
    "\n",
    "print('\\n=== If Flask still fails ===')\n",
    "print('1. Make sure you are in the fe-course conda environment')\n",
    "print('2. Check that Flask is installed: pip list | grep -i flask')\n",
    "print('3. Try running the app manually in terminal as shown above')\n",
    "print('4. The model_service functions work directly (see test above)')\n",
    "print('5. You can proceed with the rest of the notebook using direct function calls')\n"
   ]
  },
  {
   "cell_type": "code",
   "execution_count": 8,
   "id": "3841260d",
   "metadata": {},
   "outputs": [
    {
     "name": "stdout",
     "output_type": "stream",
     "text": [
      "Testing API endpoints and fallback to direct function calls...\n",
      "\n",
      "✓ Flask API is running: {'status': 'ok'}\n",
      "\n",
      "=== API ENDPOINT TESTING ===\n",
      "✓ POST /predict with rows: 200 {'labels': [1], 'probs': [1.0]}\n",
      "✓ POST /predict with features array: 200 {'labels': [1], 'probs': [1.0]}\n",
      "✓ GET /predict/<amount>: 200 {'labels': [1], 'probs': [1.0]}\n",
      "✓ GET /predict/<amount>/<time>: 200 {'labels': [1], 'probs': [1.0]}\n"
     ]
    }
   ],
   "source": [
    "# Test API endpoints (if Flask is running) or use direct functions\n",
    "print('Testing API endpoints and fallback to direct function calls...\\n')\n",
    "\n",
    "# First check if Flask is responding\n",
    "flask_running = False\n",
    "try:\n",
    "    health_resp = requests.get('http://127.0.0.1:8000/health', timeout=3)\n",
    "    flask_running = health_resp.status_code == 200\n",
    "    print(f'✓ Flask API is running: {health_resp.json()}')\n",
    "except:\n",
    "    print('✗ Flask API not responding - will use direct function calls')\n",
    "\n",
    "if flask_running:\n",
    "    print('\\n=== API ENDPOINT TESTING ===')\n",
    "    \n",
    "    # 1. POST /predict with JSON payload\n",
    "    row = {c: 0.0 for c in FEATURE_COLUMNS}\n",
    "    row['Amount'] = 123.45\n",
    "    row['Time'] = 10.0\n",
    "    payload = {'rows': [row], 'threshold': 0.5}\n",
    "    \n",
    "    try:\n",
    "        response = requests.post('http://127.0.0.1:8000/predict', json=payload, timeout=10)\n",
    "        print('✓ POST /predict with rows:', response.status_code, response.json())\n",
    "    except Exception as e:\n",
    "        print('✗ POST /predict failed:', e)\n",
    "    \n",
    "    # 2. Features array format\n",
    "    features_array = [0.0] * len(FEATURE_COLUMNS)\n",
    "    features_array[-1] = 123.45  # Amount is last in FEATURE_COLUMNS\n",
    "    payload_features = {'features': [features_array], 'threshold': 0.3}\n",
    "    \n",
    "    try:\n",
    "        response = requests.post('http://127.0.0.1:8000/predict', json=payload_features, timeout=10)\n",
    "        print('✓ POST /predict with features array:', response.status_code, response.json())\n",
    "    except Exception as e:\n",
    "        print('✗ Features array test failed:', e)\n",
    "    \n",
    "    # 3. GET path parameters\n",
    "    try:\n",
    "        response2 = requests.get('http://127.0.0.1:8000/predict/123.45', timeout=5)\n",
    "        print('✓ GET /predict/<amount>:', response2.status_code, response2.json())\n",
    "    except Exception as e:\n",
    "        print('✗ GET /predict/<amount> failed:', e)\n",
    "    \n",
    "    # 4. GET with amount and time\n",
    "    try:\n",
    "        response3 = requests.get('http://127.0.0.1:8000/predict/123.45/10.0', timeout=5)\n",
    "        print('✓ GET /predict/<amount>/<time>:', response3.status_code, response3.json())\n",
    "    except Exception as e:\n",
    "        print('✗ GET /predict/<amount>/<time> failed:', e)\n",
    "\n",
    "else:\n",
    "    print('\\n=== DIRECT FUNCTION TESTING (Flask alternative) ===')\n",
    "    \n",
    "    # Test the same functionality using direct model_service calls\n",
    "    try:\n",
    "        # Load model once\n",
    "        model_direct, feats_direct = load_model()\n",
    "        \n",
    "        # Test 1: Row-based prediction (like API)\n",
    "        row = {c: 0.0 for c in FEATURE_COLUMNS}\n",
    "        row['Amount'] = 123.45\n",
    "        row['Time'] = 10.0\n",
    "        \n",
    "        probs = predict_proba(model_direct, [row], feats_direct)\n",
    "        labels = predict_label(model_direct, [row], feats_direct, threshold=0.5)\n",
    "        print(f'✓ Direct prediction (row format): prob={probs[0]:.4f}, label={labels[0]}')\n",
    "        \n",
    "        # Test 2: Features array format (like API)\n",
    "        # Create a proper row from features array like app.py does\n",
    "        from src.model_service import predict_proba, predict_label\n",
    "        \n",
    "        features_array = [0.0] * len(FEATURE_COLUMNS)\n",
    "        features_array[-1] = 123.45  # Set Amount\n",
    "        \n",
    "        # Convert features array to row dict (like _features_list_to_row in app.py)\n",
    "        row_from_array = {col: float(features_array[i]) for i, col in enumerate(FEATURE_COLUMNS)}\n",
    "        \n",
    "        probs2 = predict_proba(model_direct, [row_from_array], feats_direct)\n",
    "        labels2 = predict_label(model_direct, [row_from_array], feats_direct, threshold=0.3)\n",
    "        print(f'✓ Direct prediction (features array): prob={probs2[0]:.4f}, label={labels2[0]}')\n",
    "        \n",
    "        # Test 3: Path parameter simulation\n",
    "        amount_only_row = {c: 0.0 for c in FEATURE_COLUMNS}\n",
    "        amount_only_row['Amount'] = 123.45\n",
    "        \n",
    "        probs3 = predict_proba(model_direct, [amount_only_row], feats_direct)\n",
    "        labels3 = predict_label(model_direct, [amount_only_row], feats_direct, threshold=0.5)\n",
    "        print(f'✓ Direct prediction (amount only): prob={probs3[0]:.4f}, label={labels3[0]}')\n",
    "        \n",
    "        print('\\n✓ All model_service functions work correctly!')\n",
    "        print('The productization is successful - Flask API adds web interface to these functions')\n",
    "        \n",
    "    except Exception as e:\n",
    "        print(f'✗ Direct function testing failed: {e}')\n"
   ]
  },
  {
   "cell_type": "markdown",
   "id": "c1ed2d9e",
   "metadata": {},
   "source": [
    "## 4. Cleanup and Summary\n"
   ]
  },
  {
   "cell_type": "code",
   "execution_count": 9,
   "id": "b1c312b1",
   "metadata": {},
   "outputs": [
    {
     "name": "stdout",
     "output_type": "stream",
     "text": [
      "Flask process terminated.\n"
     ]
    }
   ],
   "source": [
    "# Stop the Flask process\n",
    "try:\n",
    "    proc.terminate()\n",
    "    try:\n",
    "        proc.wait(timeout=5)\n",
    "    except subprocess.TimeoutExpired:\n",
    "        proc.kill()\n",
    "    print('Flask process terminated.')\n",
    "except Exception as e:\n",
    "    print('Failed to terminate Flask process:', e)\n"
   ]
  }
 ],
 "metadata": {
  "kernelspec": {
   "display_name": "fe-course",
   "language": "python",
   "name": "python3"
  },
  "language_info": {
   "codemirror_mode": {
    "name": "ipython",
    "version": 3
   },
   "file_extension": ".py",
   "mimetype": "text/x-python",
   "name": "python",
   "nbconvert_exporter": "python",
   "pygments_lexer": "ipython3",
   "version": "3.11.13"
  }
 },
 "nbformat": 4,
 "nbformat_minor": 5
}
