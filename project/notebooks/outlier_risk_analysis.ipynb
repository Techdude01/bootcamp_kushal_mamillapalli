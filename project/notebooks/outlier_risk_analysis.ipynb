{
  "cells": [
    {
      "cell_type": "markdown",
      "metadata": {},
      "source": [
        "# Stage 7 — Outliers + Risk Assumptions\n",
        "\n"
      ]
    },
    {
      "cell_type": "code",
      "execution_count": 2,
      "metadata": {},
      "outputs": [],
      "source": [
        "# Setup\n",
        "import numpy as np\n",
        "import pandas as pd\n",
        "import matplotlib.pyplot as plt\n",
        "from pathlib import Path\n",
        "from sklearn.linear_model import LinearRegression\n",
        "from sklearn.metrics import mean_absolute_error, r2_score\n",
        "np.random.seed(17)"
      ]
    },
    {
      "cell_type": "markdown",
      "metadata": {},
      "source": [
        "## Load Data (provided or synthetic fallback)"
      ]
    },
    {
      "cell_type": "code",
      "execution_count": 3,
      "metadata": {},
      "outputs": [
        {
          "name": "stdout",
          "output_type": "stream",
          "text": [
            "Reading data from ../data/raw/fraud_kaggle_creditcard_source-kaggle_dataset-creditcardfraud_20250820-192958.csv\n"
          ]
        },
        {
          "data": {
            "text/html": [
              "<div>\n",
              "<style scoped>\n",
              "    .dataframe tbody tr th:only-of-type {\n",
              "        vertical-align: middle;\n",
              "    }\n",
              "\n",
              "    .dataframe tbody tr th {\n",
              "        vertical-align: top;\n",
              "    }\n",
              "\n",
              "    .dataframe thead th {\n",
              "        text-align: right;\n",
              "    }\n",
              "</style>\n",
              "<table border=\"1\" class=\"dataframe\">\n",
              "  <thead>\n",
              "    <tr style=\"text-align: right;\">\n",
              "      <th></th>\n",
              "      <th>Time</th>\n",
              "      <th>V1</th>\n",
              "      <th>V2</th>\n",
              "      <th>V3</th>\n",
              "      <th>V4</th>\n",
              "      <th>V5</th>\n",
              "      <th>V6</th>\n",
              "      <th>V7</th>\n",
              "      <th>V8</th>\n",
              "      <th>V9</th>\n",
              "      <th>...</th>\n",
              "      <th>V21</th>\n",
              "      <th>V22</th>\n",
              "      <th>V23</th>\n",
              "      <th>V24</th>\n",
              "      <th>V25</th>\n",
              "      <th>V26</th>\n",
              "      <th>V27</th>\n",
              "      <th>V28</th>\n",
              "      <th>Amount</th>\n",
              "      <th>Class</th>\n",
              "    </tr>\n",
              "  </thead>\n",
              "  <tbody>\n",
              "    <tr>\n",
              "      <th>0</th>\n",
              "      <td>0.0</td>\n",
              "      <td>-1.359807</td>\n",
              "      <td>-0.072781</td>\n",
              "      <td>2.536347</td>\n",
              "      <td>1.378155</td>\n",
              "      <td>-0.338321</td>\n",
              "      <td>0.462388</td>\n",
              "      <td>0.239599</td>\n",
              "      <td>0.098698</td>\n",
              "      <td>0.363787</td>\n",
              "      <td>...</td>\n",
              "      <td>-0.018307</td>\n",
              "      <td>0.277838</td>\n",
              "      <td>-0.110474</td>\n",
              "      <td>0.066928</td>\n",
              "      <td>0.128539</td>\n",
              "      <td>-0.189115</td>\n",
              "      <td>0.133558</td>\n",
              "      <td>-0.021053</td>\n",
              "      <td>149.62</td>\n",
              "      <td>0</td>\n",
              "    </tr>\n",
              "    <tr>\n",
              "      <th>1</th>\n",
              "      <td>0.0</td>\n",
              "      <td>1.191857</td>\n",
              "      <td>0.266151</td>\n",
              "      <td>0.166480</td>\n",
              "      <td>0.448154</td>\n",
              "      <td>0.060018</td>\n",
              "      <td>-0.082361</td>\n",
              "      <td>-0.078803</td>\n",
              "      <td>0.085102</td>\n",
              "      <td>-0.255425</td>\n",
              "      <td>...</td>\n",
              "      <td>-0.225775</td>\n",
              "      <td>-0.638672</td>\n",
              "      <td>0.101288</td>\n",
              "      <td>-0.339846</td>\n",
              "      <td>0.167170</td>\n",
              "      <td>0.125895</td>\n",
              "      <td>-0.008983</td>\n",
              "      <td>0.014724</td>\n",
              "      <td>2.69</td>\n",
              "      <td>0</td>\n",
              "    </tr>\n",
              "    <tr>\n",
              "      <th>2</th>\n",
              "      <td>1.0</td>\n",
              "      <td>-1.358354</td>\n",
              "      <td>-1.340163</td>\n",
              "      <td>1.773209</td>\n",
              "      <td>0.379780</td>\n",
              "      <td>-0.503198</td>\n",
              "      <td>1.800499</td>\n",
              "      <td>0.791461</td>\n",
              "      <td>0.247676</td>\n",
              "      <td>-1.514654</td>\n",
              "      <td>...</td>\n",
              "      <td>0.247998</td>\n",
              "      <td>0.771679</td>\n",
              "      <td>0.909412</td>\n",
              "      <td>-0.689281</td>\n",
              "      <td>-0.327642</td>\n",
              "      <td>-0.139097</td>\n",
              "      <td>-0.055353</td>\n",
              "      <td>-0.059752</td>\n",
              "      <td>378.66</td>\n",
              "      <td>0</td>\n",
              "    </tr>\n",
              "    <tr>\n",
              "      <th>3</th>\n",
              "      <td>1.0</td>\n",
              "      <td>-0.966272</td>\n",
              "      <td>-0.185226</td>\n",
              "      <td>1.792993</td>\n",
              "      <td>-0.863291</td>\n",
              "      <td>-0.010309</td>\n",
              "      <td>1.247203</td>\n",
              "      <td>0.237609</td>\n",
              "      <td>0.377436</td>\n",
              "      <td>-1.387024</td>\n",
              "      <td>...</td>\n",
              "      <td>-0.108300</td>\n",
              "      <td>0.005274</td>\n",
              "      <td>-0.190321</td>\n",
              "      <td>-1.175575</td>\n",
              "      <td>0.647376</td>\n",
              "      <td>-0.221929</td>\n",
              "      <td>0.062723</td>\n",
              "      <td>0.061458</td>\n",
              "      <td>123.50</td>\n",
              "      <td>0</td>\n",
              "    </tr>\n",
              "    <tr>\n",
              "      <th>4</th>\n",
              "      <td>2.0</td>\n",
              "      <td>-1.158233</td>\n",
              "      <td>0.877737</td>\n",
              "      <td>1.548718</td>\n",
              "      <td>0.403034</td>\n",
              "      <td>-0.407193</td>\n",
              "      <td>0.095921</td>\n",
              "      <td>0.592941</td>\n",
              "      <td>-0.270533</td>\n",
              "      <td>0.817739</td>\n",
              "      <td>...</td>\n",
              "      <td>-0.009431</td>\n",
              "      <td>0.798278</td>\n",
              "      <td>-0.137458</td>\n",
              "      <td>0.141267</td>\n",
              "      <td>-0.206010</td>\n",
              "      <td>0.502292</td>\n",
              "      <td>0.219422</td>\n",
              "      <td>0.215153</td>\n",
              "      <td>69.99</td>\n",
              "      <td>0</td>\n",
              "    </tr>\n",
              "    <tr>\n",
              "      <th>...</th>\n",
              "      <td>...</td>\n",
              "      <td>...</td>\n",
              "      <td>...</td>\n",
              "      <td>...</td>\n",
              "      <td>...</td>\n",
              "      <td>...</td>\n",
              "      <td>...</td>\n",
              "      <td>...</td>\n",
              "      <td>...</td>\n",
              "      <td>...</td>\n",
              "      <td>...</td>\n",
              "      <td>...</td>\n",
              "      <td>...</td>\n",
              "      <td>...</td>\n",
              "      <td>...</td>\n",
              "      <td>...</td>\n",
              "      <td>...</td>\n",
              "      <td>...</td>\n",
              "      <td>...</td>\n",
              "      <td>...</td>\n",
              "      <td>...</td>\n",
              "    </tr>\n",
              "    <tr>\n",
              "      <th>95</th>\n",
              "      <td>64.0</td>\n",
              "      <td>-0.658305</td>\n",
              "      <td>0.406791</td>\n",
              "      <td>2.037461</td>\n",
              "      <td>-0.291298</td>\n",
              "      <td>0.147910</td>\n",
              "      <td>-0.350857</td>\n",
              "      <td>0.945373</td>\n",
              "      <td>-0.172560</td>\n",
              "      <td>0.025133</td>\n",
              "      <td>...</td>\n",
              "      <td>-0.156096</td>\n",
              "      <td>-0.238805</td>\n",
              "      <td>0.089877</td>\n",
              "      <td>0.421195</td>\n",
              "      <td>-0.352487</td>\n",
              "      <td>0.074783</td>\n",
              "      <td>-0.094192</td>\n",
              "      <td>-0.092493</td>\n",
              "      <td>54.99</td>\n",
              "      <td>0</td>\n",
              "    </tr>\n",
              "    <tr>\n",
              "      <th>96</th>\n",
              "      <td>64.0</td>\n",
              "      <td>0.959602</td>\n",
              "      <td>0.370711</td>\n",
              "      <td>0.888613</td>\n",
              "      <td>2.343244</td>\n",
              "      <td>0.352491</td>\n",
              "      <td>1.365515</td>\n",
              "      <td>-0.277771</td>\n",
              "      <td>0.516053</td>\n",
              "      <td>-0.700929</td>\n",
              "      <td>...</td>\n",
              "      <td>-0.155547</td>\n",
              "      <td>-0.403239</td>\n",
              "      <td>0.356504</td>\n",
              "      <td>-0.696881</td>\n",
              "      <td>-0.198718</td>\n",
              "      <td>-0.220268</td>\n",
              "      <td>0.068546</td>\n",
              "      <td>0.020797</td>\n",
              "      <td>7.55</td>\n",
              "      <td>0</td>\n",
              "    </tr>\n",
              "    <tr>\n",
              "      <th>97</th>\n",
              "      <td>67.0</td>\n",
              "      <td>-0.653445</td>\n",
              "      <td>0.160225</td>\n",
              "      <td>1.592256</td>\n",
              "      <td>1.296832</td>\n",
              "      <td>0.997175</td>\n",
              "      <td>-0.343000</td>\n",
              "      <td>0.469937</td>\n",
              "      <td>-0.132470</td>\n",
              "      <td>-0.197794</td>\n",
              "      <td>...</td>\n",
              "      <td>0.038363</td>\n",
              "      <td>0.336449</td>\n",
              "      <td>-0.014883</td>\n",
              "      <td>0.102959</td>\n",
              "      <td>-0.265322</td>\n",
              "      <td>-0.348637</td>\n",
              "      <td>0.011238</td>\n",
              "      <td>-0.049478</td>\n",
              "      <td>19.85</td>\n",
              "      <td>0</td>\n",
              "    </tr>\n",
              "    <tr>\n",
              "      <th>98</th>\n",
              "      <td>67.0</td>\n",
              "      <td>-1.494668</td>\n",
              "      <td>0.837241</td>\n",
              "      <td>2.628211</td>\n",
              "      <td>3.145414</td>\n",
              "      <td>-0.609098</td>\n",
              "      <td>0.258495</td>\n",
              "      <td>-0.012189</td>\n",
              "      <td>0.102136</td>\n",
              "      <td>-0.286164</td>\n",
              "      <td>...</td>\n",
              "      <td>-0.140047</td>\n",
              "      <td>0.355044</td>\n",
              "      <td>0.332720</td>\n",
              "      <td>0.718193</td>\n",
              "      <td>-0.219366</td>\n",
              "      <td>0.118927</td>\n",
              "      <td>-0.317486</td>\n",
              "      <td>-0.340783</td>\n",
              "      <td>28.28</td>\n",
              "      <td>0</td>\n",
              "    </tr>\n",
              "    <tr>\n",
              "      <th>99</th>\n",
              "      <td>68.0</td>\n",
              "      <td>1.232996</td>\n",
              "      <td>0.189454</td>\n",
              "      <td>0.491040</td>\n",
              "      <td>0.633673</td>\n",
              "      <td>-0.511574</td>\n",
              "      <td>-0.990609</td>\n",
              "      <td>0.066240</td>\n",
              "      <td>-0.196940</td>\n",
              "      <td>0.075921</td>\n",
              "      <td>...</td>\n",
              "      <td>-0.251566</td>\n",
              "      <td>-0.770139</td>\n",
              "      <td>0.125998</td>\n",
              "      <td>0.369627</td>\n",
              "      <td>0.205598</td>\n",
              "      <td>0.094062</td>\n",
              "      <td>-0.033138</td>\n",
              "      <td>0.020990</td>\n",
              "      <td>15.99</td>\n",
              "      <td>0</td>\n",
              "    </tr>\n",
              "  </tbody>\n",
              "</table>\n",
              "<p>100 rows × 31 columns</p>\n",
              "</div>"
            ],
            "text/plain": [
              "    Time        V1        V2        V3        V4        V5        V6  \\\n",
              "0    0.0 -1.359807 -0.072781  2.536347  1.378155 -0.338321  0.462388   \n",
              "1    0.0  1.191857  0.266151  0.166480  0.448154  0.060018 -0.082361   \n",
              "2    1.0 -1.358354 -1.340163  1.773209  0.379780 -0.503198  1.800499   \n",
              "3    1.0 -0.966272 -0.185226  1.792993 -0.863291 -0.010309  1.247203   \n",
              "4    2.0 -1.158233  0.877737  1.548718  0.403034 -0.407193  0.095921   \n",
              "..   ...       ...       ...       ...       ...       ...       ...   \n",
              "95  64.0 -0.658305  0.406791  2.037461 -0.291298  0.147910 -0.350857   \n",
              "96  64.0  0.959602  0.370711  0.888613  2.343244  0.352491  1.365515   \n",
              "97  67.0 -0.653445  0.160225  1.592256  1.296832  0.997175 -0.343000   \n",
              "98  67.0 -1.494668  0.837241  2.628211  3.145414 -0.609098  0.258495   \n",
              "99  68.0  1.232996  0.189454  0.491040  0.633673 -0.511574 -0.990609   \n",
              "\n",
              "          V7        V8        V9  ...       V21       V22       V23       V24  \\\n",
              "0   0.239599  0.098698  0.363787  ... -0.018307  0.277838 -0.110474  0.066928   \n",
              "1  -0.078803  0.085102 -0.255425  ... -0.225775 -0.638672  0.101288 -0.339846   \n",
              "2   0.791461  0.247676 -1.514654  ...  0.247998  0.771679  0.909412 -0.689281   \n",
              "3   0.237609  0.377436 -1.387024  ... -0.108300  0.005274 -0.190321 -1.175575   \n",
              "4   0.592941 -0.270533  0.817739  ... -0.009431  0.798278 -0.137458  0.141267   \n",
              "..       ...       ...       ...  ...       ...       ...       ...       ...   \n",
              "95  0.945373 -0.172560  0.025133  ... -0.156096 -0.238805  0.089877  0.421195   \n",
              "96 -0.277771  0.516053 -0.700929  ... -0.155547 -0.403239  0.356504 -0.696881   \n",
              "97  0.469937 -0.132470 -0.197794  ...  0.038363  0.336449 -0.014883  0.102959   \n",
              "98 -0.012189  0.102136 -0.286164  ... -0.140047  0.355044  0.332720  0.718193   \n",
              "99  0.066240 -0.196940  0.075921  ... -0.251566 -0.770139  0.125998  0.369627   \n",
              "\n",
              "         V25       V26       V27       V28  Amount  Class  \n",
              "0   0.128539 -0.189115  0.133558 -0.021053  149.62      0  \n",
              "1   0.167170  0.125895 -0.008983  0.014724    2.69      0  \n",
              "2  -0.327642 -0.139097 -0.055353 -0.059752  378.66      0  \n",
              "3   0.647376 -0.221929  0.062723  0.061458  123.50      0  \n",
              "4  -0.206010  0.502292  0.219422  0.215153   69.99      0  \n",
              "..       ...       ...       ...       ...     ...    ...  \n",
              "95 -0.352487  0.074783 -0.094192 -0.092493   54.99      0  \n",
              "96 -0.198718 -0.220268  0.068546  0.020797    7.55      0  \n",
              "97 -0.265322 -0.348637  0.011238 -0.049478   19.85      0  \n",
              "98 -0.219366  0.118927 -0.317486 -0.340783   28.28      0  \n",
              "99  0.205598  0.094062 -0.033138  0.020990   15.99      0  \n",
              "\n",
              "[100 rows x 31 columns]"
            ]
          },
          "execution_count": 3,
          "metadata": {},
          "output_type": "execute_result"
        }
      ],
      "source": [
        "data_path = Path('../data/raw/fraud_kaggle_creditcard_source-kaggle_dataset-creditcardfraud_20250820-192958.csv')\n",
        "if data_path.exists():\n",
        "    print(f\"Reading data from {data_path}\")\n",
        "    df = pd.read_csv(data_path)\n",
        "else:\n",
        "    # Synthetic fallback: linear trend with noise and a few extremes\n",
        "    x = np.linspace(0, 10, 200)\n",
        "    y = 2.2 * x + 1 + np.random.normal(0, 1.2, size=x.size)\n",
        "    y[10] += 15; y[120] -= 13; y[160] += 18\n",
        "    df = pd.DataFrame({'x': x, 'y': y})\n",
        "df.head(100)"
      ]
    },
    {
      "cell_type": "markdown",
      "metadata": {},
      "source": [
        "## TODO: Implement Outlier Functions (required)"
      ]
    },
    {
      "cell_type": "code",
      "execution_count": 4,
      "metadata": {
        "tags": [
          "grade_required"
        ]
      },
      "outputs": [],
      "source": [
        "def detect_outliers_iqr(series: pd.Series, k: float = 1.5) -> pd.Series:\n",
        "    \"\"\"Return boolean mask for IQR-based outliers.\n",
        "    Assumptions: distribution reasonably summarized by quartiles; k controls strictness.\n",
        "    \"\"\"\n",
        "    q1 = series.quantile(0.25)\n",
        "    q3 = series.quantile(0.75)\n",
        "    iqr = q3 - q1\n",
        "    lower = q1 - k * iqr\n",
        "    upper = q3 + k * iqr\n",
        "    return (series < lower) | (series > upper)\n",
        "\n",
        "def detect_outliers_zscore(series: pd.Series, threshold: float = 3.0) -> pd.Series:\n",
        "    \"\"\"Return boolean mask for Z-score outliers where |z| > threshold.\n",
        "    Assumptions: roughly normal distribution; sensitive to heavy tails.\n",
        "    \"\"\"\n",
        "    mu = series.mean()\n",
        "    sigma = series.std(ddof=0)\n",
        "    z = (series - mu) / (sigma if sigma != 0 else 1.0)\n",
        "    return z.abs() > threshold"
      ]
    },
    {
      "cell_type": "markdown",
      "metadata": {},
      "source": [
        "*(Stretch)* Implement winsorizing (optional)."
      ]
    },
    {
      "cell_type": "code",
      "execution_count": 5,
      "metadata": {
        "tags": [
          "stretch"
        ]
      },
      "outputs": [],
      "source": [
        "def winsorize_series(series: pd.Series, lower: float = 0.05, upper: float = 0.95) -> pd.Series:\n",
        "    lo = series.quantile(lower)\n",
        "    hi = series.quantile(upper)\n",
        "    return series.clip(lower=lo, upper=hi)"
      ]
    },
    {
      "cell_type": "markdown",
      "metadata": {},
      "source": [
        "## Apply Detection and Create Flags (choose a numeric column)"
      ]
    },
    {
      "cell_type": "code",
      "execution_count": 10,
      "metadata": {
        "tags": [
          "grade_required"
        ]
      },
      "outputs": [
        {
          "data": {
            "text/plain": [
              "outlier_iqr    0.112020\n",
              "outlier_z      0.014311\n",
              "dtype: float64"
            ]
          },
          "execution_count": 10,
          "metadata": {},
          "output_type": "execute_result"
        }
      ],
      "source": [
        "target_col = 'Amount'\n",
        "df['outlier_iqr'] = detect_outliers_iqr(df[target_col])\n",
        "df['outlier_z'] = detect_outliers_zscore(df[target_col], threshold=3.0)\n",
        "df[['outlier_iqr', 'outlier_z']].mean()  # fraction flagged"
      ]
    },
    {
      "cell_type": "markdown",
      "metadata": {},
      "source": [
        "### Visual Checks (boxplot / histogram)"
      ]
    },
    {
      "cell_type": "code",
      "execution_count": 11,
      "metadata": {},
      "outputs": [
        {
          "data": {
            "image/png": "[encoded data removed]",
            "text/plain": [
              "<Figure size 640x480 with 1 Axes>"
            ]
          },
          "metadata": {},
          "output_type": "display_data"
        },
        {
          "data": {
            "image/png": "[encoded data removed]",
            "text/plain": [
              "<Figure size 640x480 with 1 Axes>"
            ]
          },
          "metadata": {},
          "output_type": "display_data"
        }
      ],
      "source": [
        "plt.figure()\n",
        "plt.boxplot(df[target_col])\n",
        "plt.title(f'Boxplot: {target_col}')\n",
        "plt.show()\n",
        "\n",
        "plt.figure()\n",
        "plt.hist(df[target_col], bins=30)\n",
        "plt.title(f'Histogram: {target_col}')\n",
        "plt.show()"
      ]
    },
    {
      "cell_type": "markdown",
      "metadata": {},
      "source": [
        "## Sensitivity Analysis\n",
        "Pick one: summary stats or simple linear regression comparing **all vs. filtered** (and optional winsorized)."
      ]
    },
    {
      "cell_type": "code",
      "execution_count": 12,
      "metadata": {
        "tags": [
          "grade_required"
        ]
      },
      "outputs": [
        {
          "data": {
            "text/html": [
              "<div>\n",
              "<style scoped>\n",
              "    .dataframe tbody tr th:only-of-type {\n",
              "        vertical-align: middle;\n",
              "    }\n",
              "\n",
              "    .dataframe tbody tr th {\n",
              "        vertical-align: top;\n",
              "    }\n",
              "\n",
              "    .dataframe thead th {\n",
              "        text-align: right;\n",
              "    }\n",
              "</style>\n",
              "<table border=\"1\" class=\"dataframe\">\n",
              "  <thead>\n",
              "    <tr style=\"text-align: right;\">\n",
              "      <th></th>\n",
              "      <th>all</th>\n",
              "      <th>filtered_iqr</th>\n",
              "      <th>winsorized</th>\n",
              "    </tr>\n",
              "  </thead>\n",
              "  <tbody>\n",
              "    <tr>\n",
              "      <th>mean</th>\n",
              "      <td>88.349619</td>\n",
              "      <td>34.974887</td>\n",
              "      <td>65.169812</td>\n",
              "    </tr>\n",
              "    <tr>\n",
              "      <th>median</th>\n",
              "      <td>22.000000</td>\n",
              "      <td>16.000000</td>\n",
              "      <td>22.000000</td>\n",
              "    </tr>\n",
              "    <tr>\n",
              "      <th>std</th>\n",
              "      <td>250.120109</td>\n",
              "      <td>42.172250</td>\n",
              "      <td>96.373372</td>\n",
              "    </tr>\n",
              "  </tbody>\n",
              "</table>\n",
              "</div>"
            ],
            "text/plain": [
              "               all  filtered_iqr  winsorized\n",
              "mean     88.349619     34.974887   65.169812\n",
              "median   22.000000     16.000000   22.000000\n",
              "std     250.120109     42.172250   96.373372"
            ]
          },
          "execution_count": 12,
          "metadata": {},
          "output_type": "execute_result"
        }
      ],
      "source": [
        "# Option A: Summary stats\n",
        "summ_all = df[target_col].describe()[['mean', '50%', 'std']].rename({'50%': 'median'})\n",
        "summ_filtered = df.loc[~df['outlier_iqr'], target_col].describe()[['mean', '50%', 'std']].rename({'50%': 'median'})\n",
        "summ_w = None\n",
        "if 'winsorize_series' in globals():\n",
        "    w = winsorize_series(df[target_col])\n",
        "    summ_w = w.describe()[['mean', '50%', 'std']].rename({'50%': 'median'})\n",
        "\n",
        "comp = pd.concat(\n",
        "    {\n",
        "        'all': summ_all,\n",
        "        'filtered_iqr': summ_filtered,\n",
        "        **({'winsorized': summ_w} if summ_w is not None else {})\n",
        "    }, axis=1\n",
        ")\n",
        "comp"
      ]
    },
    {
      "cell_type": "code",
      "execution_count": 14,
      "metadata": {
        "tags": [
          "grade_required"
        ]
      },
      "outputs": [
        {
          "name": "stdout",
          "output_type": "stream",
          "text": [
            "No 'x' column; skip regression or engineer features.\n"
          ]
        }
      ],
      "source": [
        "# Option B: Simple regression (if x present)\n",
        "if 'x' in df.columns:\n",
        "    X_all = df[['time']].to_numpy(); y_all = df[target_col].to_numpy()\n",
        "    X_filtered = df.loc[~df['outlier_iqr'], ['x']].to_numpy(); y_filtered = df.loc[~df['outlier_iqr'], target_col].to_numpy()\n",
        "\n",
        "    model_all = LinearRegression().fit(X_all, y_all)\n",
        "    model_flt = LinearRegression().fit(X_filtered, y_filtered)\n",
        "\n",
        "    mae_all = mean_absolute_error(y_all, model_all.predict(X_all))\n",
        "    mae_flt = mean_absolute_error(y_filtered, model_flt.predict(X_filtered))\n",
        "\n",
        "    results = pd.DataFrame({\n",
        "        'slope': [model_all.coef_[0], model_flt.coef_[0]],\n",
        "        'intercept': [model_all.intercept_, model_flt.intercept_],\n",
        "        'r2': [model_all.score(X_all, y_all), model_flt.score(X_filtered, y_filtered)],\n",
        "        'mae': [mae_all, mae_flt]\n",
        "    }, index=['all', 'filtered_iqr'])\n",
        "    results\n",
        "else:\n",
        "    results = None\n",
        "    print(\"No 'x' column; skip regression or engineer features.\")"
      ]
    },
    {
      "cell_type": "markdown",
      "metadata": {},
      "source": [
        "### Reflection (≤ 1 page)\n",
        "- Methods and thresholds used (and why)\n",
        "- Assumptions behind choices\n",
        "- Observed impact on results\n",
        "- Risks if assumptions are wrong (e.g., discarding true events)"
      ]
    },
    {
      "cell_type": "markdown",
      "metadata": {},
      "source": [
        "Methods used, with assumptions at the end:\n",
        "IQR method. The IQR method utilizes the interquartile range to see low variability and high consistency in data. the lower hte iqr, the better it generally is. In this case 1.5 times the iqr was used for a longer range. This method is nice because it doesn't assume normality in elements (better for skewed distributions) and is less senstive than the z-score to outliers. After doing some research on financial returns, this is the better method because returns don't always follow normal distirbutions, for which the z-score method is better. \n",
        "\n",
        "Winsorizing is also used, wherein the extreme values below the 5th and above the 95th percentile are replaced by less extreme values at the end of each side, so the data isn't removed. This is good because the data volume is kept while reducing the impact of outliers. The assumption is that by using less extreme values, there will be better ersults as reducing the strength of outliers is better than removing them completely.\n",
        "\n",
        "Impact on results:\n",
        "Accoridng to the results for Method 1, we can see IQR is better than Winsorization for all three metrics. The iqr result is around half of the winsorization value for mean and std, and smaller for median. Both values are far less than the unfiltered/winsorized values except for th emedian in winsorization, which suggests that there was an outlier that was not removed by winsorization but was for iqr, or that the iqr removed too much. \n",
        "\n",
        "Risks: \n",
        "For a credit card fraud detection case, it is important to use most values as fraud values can range from large transactions to small, and the timing can also be a big factor. For this use case, since the data is really high quality, it might be better to not filter as there are no columns to fill or replace and the dataset is comprehensive. The best case would be we use a very small winsorization for 2% of each area, but even still the dataset quality is good enough for 100% use.\n",
        "Furthermore, if using Z-score analysis, the distribution should be centered around a normal distribution, since z-scores do not work well for skewed distributions; this can create problematic filtering if the distribution type is not taken account for. \n",
        "\n"
      ]
    }
  ],
  "metadata": {
    "kernelspec": {
      "display_name": "fe-course",
      "language": "python",
      "name": "python3"
    },
    "language_info": {
      "codemirror_mode": {
        "name": "ipython",
        "version": 3
      },
      "file_extension": ".py",
      "mimetype": "text/x-python",
      "name": "python",
      "nbconvert_exporter": "python",
      "pygments_lexer": "ipython3",
      "version": "3.11.13"
    }
  },
  "nbformat": 4,
  "nbformat_minor": 5
}
