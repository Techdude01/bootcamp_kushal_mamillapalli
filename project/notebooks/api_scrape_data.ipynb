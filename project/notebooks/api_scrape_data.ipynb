{
 "cells": [
  {
   "cell_type": "markdown",
   "id": "9ca563d0",
   "metadata": {},
   "source": [
    "# Project — Data Acquisition and Ingestion\n",
    "Owner: Kushal Mamillapalli\n",
    "Date: 08/20\n",
    "\n",
    "## Goals\n",
    "- Pull Financial Data from Kaggle using Python code that gives a df and convert to csv\n",
    "\n",
    "### Kept the other code just in case, but the Two cells with Kaggle are used for acquisition along with the utilities\n"
   ]
  },
  {
   "cell_type": "markdown",
   "id": "d7423b40",
   "metadata": {},
   "source": [
    "## Utilities\n",
    "Helper functions for timestamps, validation, and IO. Prefer explicit schema checks at ingestion time."
   ]
  },
  {
   "cell_type": "code",
   "execution_count": null,
   "id": "cfe3adc0",
   "metadata": {},
   "outputs": [],
   "source": [
    "# Install dependencies as needed:\n",
    "# pip install kagglehub[pandas-datasets]\n",
    "import kagglehub\n",
    "from kagglehub import KaggleDatasetAdapter\n",
    "import pandas as pd\n",
    "import datetime as dt\n",
    "import os\n",
    "\n",
    "def ts():\n",
    "    return dt.datetime.now().strftime('%Y%m%d-%H%M%S')\n",
    "\n",
    "def save_csv(df: pd.DataFrame, prefix: str, **meta):\n",
    "    mid = '_'.join([f\"{k}-{v}\" for k,v in meta.items()])\n",
    "    path = RAW / f\"{prefix}_{mid}_{ts()}.csv\"\n",
    "    df.to_csv(path, index=False)\n",
    "    print('Saved', path)\n",
    "    return path\n",
    "\n",
    "def validate(df: pd.DataFrame, required):\n",
    "    missing = [c for c in required if c not in df.columns]\n",
    "    return {'missing': missing, 'shape': df.shape, 'na_total': int(df.isna().sum().sum())}"
   ]
  },
  {
   "cell_type": "markdown",
   "id": "89624132",
   "metadata": {
    "slideshow": {
     "slide_type": "skip"
    }
   },
   "source": [
    "## Kaggle Dataset Download\n",
    "- Source: Kaggle API via `kagglehub`\n",
    "- Target: Credit Card Fraud Detection dataset (mlg-ulb/creditcardfraud)\n",
    "- Notes: Download latest version; dataset includes 285K+ transactions with 31 features for fraud classification.\n"
   ]
  },
  {
   "cell_type": "code",
   "execution_count": null,
   "id": "0dc15734",
   "metadata": {},
   "outputs": [
    {
     "name": "stdout",
     "output_type": "stream",
     "text": [
      "Warning: Looks like you're using an outdated `kagglehub` version (installed: 0.3.8), please consider upgrading to the latest version (0.3.13).\n",
      "Dataset shape: (284807, 31)\n",
      "Columns: ['Time', 'V1', 'V2', 'V3', 'V4', 'V5', 'V6', 'V7', 'V8', 'V9', 'V10', 'V11', 'V12', 'V13', 'V14', 'V15', 'V16', 'V17', 'V18', 'V19', 'V20', 'V21', 'V22', 'V23', 'V24', 'V25', 'V26', 'V27', 'V28', 'Amount', 'Class']\n",
      "Saved to: ../data/raw/fraud_kaggle_creditcard_20250827-200653.csv\n"
     ]
    }
   ],
   "source": [
    "\n",
    "# Load the latest version\n",
    "df = kagglehub.load_dataset(\n",
    "    KaggleDatasetAdapter.PANDAS,\n",
    "    \"mlg-ulb/creditcardfraud\",\n",
    "    \"creditcard.csv\"\n",
    ")\n",
    "\n",
    "print(\"Dataset shape:\", df.shape)\n",
    "print(\"Columns:\", df.columns.tolist())\n",
    "\n",
    "# Save to your existing RAW directory\n",
    "timestamp = dt.datetime.now().strftime('%Y%m%d-%H%M%S')\n",
    "output_path = RAW / f\"fraud_kaggle_creditcard_{timestamp}.csv\"\n",
    "df.to_csv(output_path, index=False)\n",
    "print(f\"Saved to: {output_path}\")"
   ]
  },
  {
   "cell_type": "code",
   "execution_count": 3,
   "id": "fdcdcc4c",
   "metadata": {},
   "outputs": [
    {
     "name": "stdout",
     "output_type": "stream",
     "text": [
      "ALPHAVANTAGE_API_KEY loaded? True\n"
     ]
    }
   ],
   "source": [
    "import os, pathlib, datetime as dt\n",
    "import requests\n",
    "import pandas as pd\n",
    "from bs4 import BeautifulSoup\n",
    "from dotenv import load_dotenv\n",
    "\n",
    "RAW = pathlib.Path('../data/raw'); RAW.mkdir(parents=True, exist_ok=True)\n",
    "load_dotenv(); print('ALPHAVANTAGE_API_KEY loaded?', bool(os.getenv('ALPHAVANTAGE_API_KEY')))"
   ]
  },
  {
   "cell_type": "markdown",
   "id": "e752104d",
   "metadata": {},
   "source": [
    "## API Pull\n",
    "- Source: Alpha Vantage TIME_SERIES_DAILY (fallback: yfinance)\n",
    "- Notes: respect rate limits; persist only `date` and `close` for free-tier parity; cast dtypes explicitly."
   ]
  },
  {
   "cell_type": "code",
   "execution_count": 11,
   "id": "e6e84ee9",
   "metadata": {
    "lines_to_next_cell": 2
   },
   "outputs": [
    {
     "name": "stdout",
     "output_type": "stream",
     "text": [
      "df1 columns: ['index', '1. open', '2. high', '3. low', '4. close', '5. volume']\n"
     ]
    },
    {
     "data": {
      "text/plain": [
       "{'missing': [], 'shape': (100, 2), 'na_total': 0}"
      ]
     },
     "execution_count": 11,
     "metadata": {},
     "output_type": "execute_result"
    }
   ],
   "source": [
    "SYMBOL = 'AAPL'\n",
    "USE_ALPHA = bool(os.getenv('ALPHAVANTAGE_API_KEY'))\n",
    "if USE_ALPHA:\n",
    "    url = 'https://www.alphavantage.co/query'\n",
    "    #adjusted doesn't seem to work, premium endpoint instead of free;\n",
    "    # params = {'function':'TIME_SERIES_DAILY_ADJUSTED','symbol':SYMBOL,'outputsize':'compact','apikey':os.getenv('ALPHAVANTAGE_API_KEY')}\n",
    "    params = {'function':'TIME_SERIES_DAILY','symbol':SYMBOL,'outputsize':'compact','apikey':os.getenv('ALPHAVANTAGE_API_KEY')}\n",
    "    r = requests.get(url, params=params, timeout=30)\n",
    "    r.raise_for_status()\n",
    "    js = r.json()\n",
    "    key = [k for k in js if 'Time Series' in k][0]\n",
    "    df1 = pd.DataFrame(js[key]).T.reset_index()\n",
    "    print('df1 columns:', df1.columns.tolist())\n",
    "    #less columns in the free endpoint, had to remove some\n",
    "    #df_api = pd.DataFrame(js[key]).T.reset_index().rename(columns={'index':'date','5. adjusted close':'adj_close'})[['date','adj_close']]\n",
    "    df_api = pd.DataFrame(js[key]).T.reset_index().rename(columns={'index':'date',\"4. close\":\"close\"})[['date','close']]\n",
    "    df_api['date'] = pd.to_datetime(df_api['date'])\n",
    "    #df_api['adj_close'] = pd.to_numeric(df_api['adj_close'])\n",
    "    #replace with free verison\n",
    "    df_api['close'] = pd.to_numeric(df_api['close'])\n",
    "else:\n",
    "    import yfinance as yf\n",
    "    df_api = yf.download(SYMBOL, period='3mo', interval='1d').reset_index()[['Date','Adj Close']]\n",
    "    df_api.columns = ['date','adj_close']\n",
    "#adjust for close\n",
    "# v_api = validate(df_api, ['date','adj_close']); v_api\n",
    "v_api = validate(df_api, ['date','close']); v_api"
   ]
  },
  {
   "cell_type": "code",
   "execution_count": 12,
   "id": "9586f02e",
   "metadata": {},
   "outputs": [
    {
     "name": "stdout",
     "output_type": "stream",
     "text": [
      "Saved data/raw/api_source-alpha_symbol-AAPL_20250820-114423.csv\n"
     ]
    }
   ],
   "source": [
    "_ = save_csv(df_api.sort_values('date'), prefix='api', source='alpha' if USE_ALPHA else 'yfinance', symbol=SYMBOL)"
   ]
  },
  {
   "cell_type": "markdown",
   "id": "e5f26c72",
   "metadata": {},
   "source": [
    "## Web Scrape\n",
    "- Target: permitted public table (e.g., Yahoo Finance Gainers)\n",
    "- Risks: layout and selector drift; inconsistent number formats; robots and legal constraints.\n",
    "- Mitigation: user-agent header, numeric coercion, capture full raw HTML when parsing fails."
   ]
  },
  {
   "cell_type": "code",
   "execution_count": 13,
   "id": "0e52fd26",
   "metadata": {},
   "outputs": [
    {
     "name": "stdout",
     "output_type": "stream",
     "text": [
      "[['NEGG', 'Newegg Commerce, Inc.', '', '110.47+21.07(+23.57%)', '+21.07', '+23.57%', '847,086', '1.136M', '2.152B', '--', '+419.77%', ''], ['LNZA', 'LanzaTech Global, Inc.', '', '23.21+3.49(+17.70%)', '+3.49', '+17.70%', '45,606', '28,794', '53.839M', '--', '-88.26%', ''], ['SRRK', 'Scholar Rock Holding Corporation', '', '33.84+3.73(+12.40%)', '+3.73', '+12.40%', '1.791M', '1.417M', '3.253B', '--', '+225.27%', ''], ['VKTX', 'Viking Therapeutics, Inc.', '', '26.02+1.66(+6.81%)', '+1.66', '+6.81%', '14.5M', '4.857M', '2.926B', '--', '-62.38%', ''], ['MCRB', 'Seres Therapeutics, Inc.', '', '17.27+1.02(+6.25%)', '+1.02', '+6.25%', '22,100', '119,888', '151.149M', '--', '-7.04%', ''], ['COCO', 'The Vita Coco Company, Inc.', '', '35.99+2.05(+6.04%)', '+2.05', '+6.04%', '424,987', '645,720', '2.045B', '33.64', '+33.89%', ''], ['HTHT', 'H World Group Limited', '', '35.10+1.76(+5.26%)', '+1.76', '+5.26%', '2.476M', '1.763M', '10.775B', '24.55', '+16.94%', ''], ['STEM', 'Stem, Inc.', '', '15.60+1.06(+7.25%)', '+1.06', '+7.25%', '149,831', '521,463', '130.401M', '--', '+15.21%', ''], ['CVI', 'CVR Energy, Inc.', '', '28.30+1.29(+4.78%)', '+1.29', '+4.78%', '574,533', '1.173M', '2.845B', '--', '+9.75%', ''], ['MDT', 'Medtronic plc', '', '93.75+3.85(+4.29%)', '+3.85', '+4.29%', '5.484M', '8.067M', '120.125B', '25.97', '+2.70%', ''], ['ADI', 'Analog Devices, Inc.', '', '239.87+9.43(+4.09%)', '+9.43', '+4.09%', '3.902M', '3.687M', '119.035B', '65.01', '+1.29%', ''], ['AS', 'Amer Sports, Inc.', '', '37.25+1.51(+4.22%)', '+1.51', '+4.22%', '3.46M', '4.176M', '20.658B', '100.68', '+152.58%', ''], ['WULF', 'TeraWulf Inc.', '', '9.13+0.35(+3.99%)', '+0.35', '+3.99%', '35.536M', '54.569M', '3.58B', '--', '+82.92%', ''], ['NU', 'Nu Holdings Ltd.', '', '13.59+0.47(+3.54%)', '+0.47', '+3.54%', '33.848M', '64.361M', '65.647B', '28.90', '-8.89%', ''], ['TGS', 'Transportadora de Gas del Sur S.A.', '', '28.03+0.96(+3.55%)', '+0.96', '+3.55%', '153,569', '337,948', '4.444B', '17.52', '+43.46%', ''], ['GDS', 'GDS Holdings Limited', '', '32.65+1.06(+3.35%)', '+1.06', '+3.35%', '1.448M', '2.151M', '6.507B', '296.80', '+114.02%', ''], ['DOW', 'Dow Inc.', '', '24.31+0.78(+3.31%)', '+0.78', '+3.31%', '6.769M', '14.257M', '17.232B', '--', '-55.56%', ''], ['REGN', 'Regeneron Pharmaceuticals, Inc.', '', '590.88+19.10(+3.34%)', '+19.10', '+3.34%', '477,044', '1.168M', '62.626B', '14.89', '-51.76%', ''], ['BMA', 'Banco Macro S.A.', '', '67.88+2.18(+3.31%)', '+2.18', '+3.31%', '152,416', '327,317', '4.616B', '--', '+17.28%', ''], ['LEU', 'Centrus Energy Corp.', '', '173.00+6.42(+3.85%)', '+6.42', '+3.85%', '732,616', '1.481M', '3.15B', '28.08', '+320.13%', ''], ['TJX', 'The TJX Companies, Inc.', '', '138.87+4.25(+3.16%)', '+4.25', '+3.16%', '5.405M', '5.24M', '154.926B', '32.68', '+11.97%', ''], ['PPC', \"Pilgrim's Pride Corporation\", '', '47.15+1.46(+3.20%)', '+1.46', '+3.20%', '503,097', '1.205M', '11.2B', '9.08', '+8.69%', ''], ['SBRA', 'Sabra Health Care REIT, Inc.', '', '19.51+0.60(+3.17%)', '+0.60', '+3.17%', '1.106M', '2.572M', '4.678B', '25.67', '+16.58%', ''], ['INFY', 'Infosys Limited', '', '17.11+0.51(+3.10%)', '+0.51', '+3.10%', '12.46M', '13.895M', '70.946B', '22.23', '-26.45%', ''], ['LYB', 'LyondellBasell Industries N.V.', '', '55.39+1.57(+2.92%)', '+1.57', '+2.92%', '1.433M', '4.527M', '17.816B', '117.85', '-44.46%', '']]\n"
     ]
    },
    {
     "data": {
      "text/plain": [
       "{'missing': [], 'shape': (25, 12), 'na_total': 25}"
      ]
     },
     "execution_count": 13,
     "metadata": {},
     "output_type": "execute_result"
    }
   ],
   "source": [
    "# SCRAPE_URL = 'https://example.com/markets-table'  # TODO: replace with permitted page\n",
    "SCRAPE_URL = 'https://finance.yahoo.com/gainers'  # TODO: replace with permitted page\n",
    "#good website for gaining companies by yahoo which is one of the originals\n",
    "headers = {'User-Agent':'AFE-Homework/1.0'}\n",
    "try:\n",
    "    resp = requests.get(SCRAPE_URL, headers=headers, timeout=30); resp.raise_for_status()\n",
    "    soup = BeautifulSoup(resp.text, 'html.parser')\n",
    "    rows = [[c.get_text(strip=True) for c in tr.find_all(['th','td'])] for tr in soup.find_all('tr')]\n",
    "    header, *data = [r for r in rows if r]\n",
    "    df_scrape = pd.DataFrame(data, columns=header)\n",
    "    print(data)\n",
    "except Exception as e:\n",
    "    print('Scrape failed, using inline demo table:', e)\n",
    "    html = '<table><tr><th>Ticker</th><th>Price</th></tr><tr><td>AAA</td><td>101.2</td></tr></table>'\n",
    "    soup = BeautifulSoup(html, 'html.parser')\n",
    "    rows = [[c.get_text(strip=True) for c in tr.find_all(['th','td'])] for tr in soup.find_all('tr')]\n",
    "    header, *data = [r for r in rows if r]\n",
    "    df_scrape = pd.DataFrame(data, columns=header)\n",
    "\n",
    "if 'Price' in df_scrape.columns:\n",
    "    df_scrape['Price'] = pd.to_numeric(df_scrape['Price'], errors='coerce')\n",
    "v_scrape = validate(df_scrape, list(df_scrape.columns)); v_scrape"
   ]
  },
  {
   "cell_type": "code",
   "execution_count": 14,
   "id": "0beb3d50",
   "metadata": {},
   "outputs": [
    {
     "name": "stdout",
     "output_type": "stream",
     "text": [
      "Saved data/raw/scrape_site-yahoo_finance_table-gainers_20250820-114424.csv\n"
     ]
    }
   ],
   "source": [
    "_ = save_csv(df_scrape, prefix='scrape', site='yahoo_finance', table='gainers')"
   ]
  },
  {
   "cell_type": "markdown",
   "id": "8b3f1c98",
   "metadata": {},
   "source": [
    "## Documentation & Insights\n",
    "- API: `https://www.alphavantage.co/query` (TIME_SERIES_DAILY, `AAPL`, `compact`). Free tier enforces strict rate limits; batch downstream processing to avoid retries.\n",
    "- Scrape: `https://finance.yahoo.com/gainers`. Fields are volatile; treat scraped columns as soft schema and validate per run.\n",
    "- Persistence: Timestamped filenames under `data/raw/` enable reproducibility and backfills.\n",
    "- Practical insight: For downstream modeling, join API `close` prices with scraped tickers by trading day. Use scrape only for qualitative features (e.g., intraday momentum proxy) due to schema instability.\n"
   ]
  }
 ],
 "metadata": {
  "jupytext": {
   "formats": "ipynb,py:percent"
  },
  "kernelspec": {
   "display_name": "fe-course",
   "language": "python",
   "name": "python3"
  },
  "language_info": {
   "codemirror_mode": {
    "name": "ipython",
    "version": 3
   },
   "file_extension": ".py",
   "mimetype": "text/x-python",
   "name": "python",
   "nbconvert_exporter": "python",
   "pygments_lexer": "ipython3",
   "version": "3.11.13"
  }
 },
 "nbformat": 4,
 "nbformat_minor": 5
}
