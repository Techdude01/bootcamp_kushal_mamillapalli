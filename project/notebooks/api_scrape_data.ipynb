{
 "cells": [
  {
   "cell_type": "markdown",
   "id": "9ca563d0",
   "metadata": {},
   "source": [
    "# Homework Starter — Stage 04: Data Acquisition and Ingestion\n",
    "Name: \n",
    "Date: \n",
    "\n",
    "## Objectives\n",
    "- API ingestion with secrets in `.env`\n",
    "- Scrape a permitted public table\n",
    "- Validate and save raw data to `data/raw/`"
   ]
  },
  {
   "cell_type": "code",
   "execution_count": 1,
   "id": "fdcdcc4c",
   "metadata": {},
   "outputs": [
    {
     "name": "stdout",
     "output_type": "stream",
     "text": [
      "ALPHAVANTAGE_API_KEY loaded? True\n"
     ]
    }
   ],
   "source": [
    "import os, pathlib, datetime as dt\n",
    "import requests\n",
    "import pandas as pd\n",
    "from bs4 import BeautifulSoup\n",
    "from dotenv import load_dotenv\n",
    "\n",
    "RAW = pathlib.Path('data/raw'); RAW.mkdir(parents=True, exist_ok=True)\n",
    "load_dotenv(); print('ALPHAVANTAGE_API_KEY loaded?', bool(os.getenv('ALPHAVANTAGE_API_KEY')))"
   ]
  },
  {
   "cell_type": "markdown",
   "id": "d7423b40",
   "metadata": {},
   "source": [
    "## Helpers (use or modify)"
   ]
  },
  {
   "cell_type": "code",
   "execution_count": 2,
   "id": "cfe3adc0",
   "metadata": {},
   "outputs": [],
   "source": [
    "def ts():\n",
    "    return dt.datetime.now().strftime('%Y%m%d-%H%M%S')\n",
    "\n",
    "def save_csv(df: pd.DataFrame, prefix: str, **meta):\n",
    "    mid = '_'.join([f\"{k}-{v}\" for k,v in meta.items()])\n",
    "    path = RAW / f\"{prefix}_{mid}_{ts()}.csv\"\n",
    "    df.to_csv(path, index=False)\n",
    "    print('Saved', path)\n",
    "    return path\n",
    "\n",
    "def validate(df: pd.DataFrame, required):\n",
    "    missing = [c for c in required if c not in df.columns]\n",
    "    return {'missing': missing, 'shape': df.shape, 'na_total': int(df.isna().sum().sum())}"
   ]
  },
  {
   "cell_type": "markdown",
   "id": "e752104d",
   "metadata": {},
   "source": [
    "## Part 1 — API Pull (Required)\n",
    "Choose an endpoint (e.g., Alpha Vantage or use `yfinance` fallback)."
   ]
  },
  {
   "cell_type": "code",
   "execution_count": 3,
   "id": "e6e84ee9",
   "metadata": {
    "lines_to_next_cell": 2
   },
   "outputs": [
    {
     "name": "stdout",
     "output_type": "stream",
     "text": [
      "df1 columns: ['index', '1. open', '2. high', '3. low', '4. close', '5. volume']\n"
     ]
    },
    {
     "data": {
      "text/plain": [
       "{'missing': [], 'shape': (100, 2), 'na_total': 0}"
      ]
     },
     "execution_count": 3,
     "metadata": {},
     "output_type": "execute_result"
    }
   ],
   "source": [
    "SYMBOL = 'AAPL'\n",
    "USE_ALPHA = bool(os.getenv('ALPHAVANTAGE_API_KEY'))\n",
    "if USE_ALPHA:\n",
    "    url = 'https://www.alphavantage.co/query'\n",
    "    #adjusted doesn't seem to work, premium endpoint instead of free;\n",
    "    # params = {'function':'TIME_SERIES_DAILY_ADJUSTED','symbol':SYMBOL,'outputsize':'compact','apikey':os.getenv('ALPHAVANTAGE_API_KEY')}\n",
    "    params = {'function':'TIME_SERIES_DAILY','symbol':SYMBOL,'outputsize':'compact','apikey':os.getenv('ALPHAVANTAGE_API_KEY')}\n",
    "    r = requests.get(url, params=params, timeout=30)\n",
    "    r.raise_for_status()\n",
    "    js = r.json()\n",
    "    key = [k for k in js if 'Time Series' in k][0]\n",
    "    df1 = pd.DataFrame(js[key]).T.reset_index()\n",
    "    print('df1 columns:', df1.columns.tolist())\n",
    "    #less columns in the free endpoint, had to remove some\n",
    "    #df_api = pd.DataFrame(js[key]).T.reset_index().rename(columns={'index':'date','5. adjusted close':'adj_close'})[['date','adj_close']]\n",
    "    df_api = pd.DataFrame(js[key]).T.reset_index().rename(columns={'index':'date',\"4. close\":\"close\"})[['date','close']]\n",
    "    df_api['date'] = pd.to_datetime(df_api['date'])\n",
    "    #df_api['adj_close'] = pd.to_numeric(df_api['adj_close'])\n",
    "    #replace with free verison\n",
    "    df_api['close'] = pd.to_numeric(df_api['close'])\n",
    "else:\n",
    "    import yfinance as yf\n",
    "    df_api = yf.download(SYMBOL, period='3mo', interval='1d').reset_index()[['Date','Adj Close']]\n",
    "    df_api.columns = ['date','adj_close']\n",
    "#adjust for close\n",
    "# v_api = validate(df_api, ['date','adj_close']); v_api\n",
    "v_api = validate(df_api, ['date','close']); v_api"
   ]
  },
  {
   "cell_type": "code",
   "execution_count": 4,
   "id": "9586f02e",
   "metadata": {},
   "outputs": [
    {
     "name": "stdout",
     "output_type": "stream",
     "text": [
      "Saved data/raw/api_source-alpha_symbol-AAPL_20250818-095417.csv\n"
     ]
    }
   ],
   "source": [
    "_ = save_csv(df_api.sort_values('date'), prefix='api', source='alpha' if USE_ALPHA else 'yfinance', symbol=SYMBOL)"
   ]
  },
  {
   "cell_type": "markdown",
   "id": "e5f26c72",
   "metadata": {},
   "source": [
    "## Part 2 — Scrape a Public Table (Required)\n",
    "Replace `SCRAPE_URL` with a permitted page containing a simple table."
   ]
  },
  {
   "cell_type": "code",
   "execution_count": 5,
   "id": "0e52fd26",
   "metadata": {},
   "outputs": [
    {
     "name": "stdout",
     "output_type": "stream",
     "text": [
      "[['PPCB', 'Propanc Biopharma, Inc. Common Stock', '', '8.37+5.50(+190.98%)', '+5.50', '+190.98%', '31.456M', '10,072', '97.191M', '--', '+239,066.67%', ''], ['DAY', 'Dayforce Inc', '', '66.44+13.56(+25.69%)', '+13.56', '+25.69%', '2.813M', '1.843M', '10.611B', '221.48', '-4.84%', ''], ['WULF', 'TeraWulf Inc.', '', '10.11+1.14(+12.71%)', '+1.14', '+12.71%', '41.58M', '51.801M', '3.965B', '--', '+106.21%', ''], ['RUN', 'Sunrun Inc.', '', '15.38+1.45(+10.45%)', '+1.45', '+10.45%', '16.63M', '24.218M', '3.548B', '--', '-31.29%', ''], ['HSAI', 'Hesai Group', '', '27.50+1.91(+7.46%)', '+1.91', '+7.46%', '1.01M', '3.431M', '3.643B', '250.00', '+464.90%', ''], ['WBTN', 'WEBTOON Entertainment Inc.', '', '16.13+1.16(+7.75%)', '+1.16', '+7.75%', '251,383', '561,338', '2.107B', '--', '+14.62%', ''], ['NXT', 'Nextracker Inc.', '', '65.50+4.92(+8.12%)', '+4.92', '+8.12%', '1.442M', '2.503M', '9.942B', '17.85', '+50.40%', ''], ['DUOL', 'Duolingo, Inc.', '', '351.99+25.06(+7.67%)', '+25.06', '+7.67%', '632,434', '1.198M', '16.129B', '143.67', '+57.80%', ''], ['NWL', 'Newell Brands Inc.', '', '5.86+0.40(+7.42%)', '+0.40', '+7.42%', '935,153', '9.22M', '2.458B', '--', '-26.22%', ''], ['ALVO', 'Alvotech', '', '8.58+0.55(+6.91%)', '+0.55', '+6.91%', '386,428', '295,959', '2.673B', '37.30', '-38.22%', ''], ['FSLR', 'First Solar, Inc.', '', '214.12+14.17(+7.09%)', '+14.17', '+7.09%', '2.111M', '4.116M', '22.964B', '18.30', '-12.45%', ''], ['KC', 'Kingsoft Cloud Holdings Limited', '', '14.39+0.81(+5.96%)', '+0.81', '+5.96%', '552,418', '1.902M', '4.047B', '--', '+436.76%', ''], ['MNSO', 'MINISO Group Holding Limited', '', '20.88+1.15(+5.83%)', '+1.15', '+5.83%', '107,896', '910,258', '6.38B', '18.98', '+26.39%', ''], ['NVO', 'Novo Nordisk A/S', '', '54.33+2.50(+4.83%)', '+2.50', '+4.83%', '11.678M', '14.432M', '234.578B', '13.86', '-61.25%', ''], ['APLD', 'Applied Digital Corporation', '', '14.94+0.85(+6.00%)', '+0.85', '+6.00%', '14.76M', '49.797M', '3.906B', '--', '+242.82%', ''], ['CAR', 'Avis Budget Group, Inc.', '', '163.71+8.08(+5.19%)', '+8.08', '+5.19%', '124,857', '1.295M', '5.762B', '--', '+75.08%', ''], ['ENPH', 'Enphase Energy, Inc.', '', '36.41+1.57(+4.51%)', '+1.57', '+4.51%', '3.682M', '9.266M', '4.761B', '28.22', '-70.90%', ''], ['ELF', 'e.l.f. Beauty, Inc.', '', '121.78+5.40(+4.64%)', '+5.40', '+4.64%', '215,946', '2.545M', '6.909B', '72.06', '-27.31%', ''], ['AMRN', 'Amarin Corporation plc', '', '16.40+0.75(+4.81%)', '+0.75', '+4.81%', '16,948', '110,720', '339.198M', '--', '+16.79%', ''], ['GDS', 'GDS Holdings Limited', '', '32.65+1.24(+3.95%)', '+1.24', '+3.95%', '395,285', '2.105M', '6.432B', '296.82', '+135.10%', ''], ['PCTY', 'Paylocity Holding Corporation', '', '177.44+5.48(+3.19%)', '+5.48', '+3.19%', '101,119', '541,066', '9.788B', '44.14', '+13.12%', ''], ['CELH', 'Celsius Holdings, Inc.', '', '59.47+2.17(+3.79%)', '+2.17', '+3.79%', '1.88M', '6.792M', '15.34B', '156.50', '+37.87%', ''], ['ALHC', 'Alignment Healthcare, Inc.', '', '15.55+0.50(+3.33%)', '+0.50', '+3.33%', '115,799', '3.422M', '3.08B', '--', '+75.20%', ''], ['CNC', 'Centene Corporation', '', '29.42+0.93(+3.26%)', '+0.93', '+3.26%', '2.101M', '14.124M', '14.449B', '7.14', '-63.61%', ''], ['USM', 'Array Digital Infrastructure, Inc.', '', '77.01+2.76(+3.72%)', '+2.76', '+3.72%', '1M', '316,295', '6.623B', '--', '+41.26%', '']]\n"
     ]
    },
    {
     "data": {
      "text/plain": [
       "{'missing': [], 'shape': (25, 12), 'na_total': 25}"
      ]
     },
     "execution_count": 5,
     "metadata": {},
     "output_type": "execute_result"
    }
   ],
   "source": [
    "# SCRAPE_URL = 'https://example.com/markets-table'  # TODO: replace with permitted page\n",
    "SCRAPE_URL = 'https://finance.yahoo.com/gainers'  # TODO: replace with permitted page\n",
    "#good website for gaining companies by yahoo which is one of the originals\n",
    "headers = {'User-Agent':'AFE-Homework/1.0'}\n",
    "try:\n",
    "    resp = requests.get(SCRAPE_URL, headers=headers, timeout=30); resp.raise_for_status()\n",
    "    soup = BeautifulSoup(resp.text, 'html.parser')\n",
    "    rows = [[c.get_text(strip=True) for c in tr.find_all(['th','td'])] for tr in soup.find_all('tr')]\n",
    "    header, *data = [r for r in rows if r]\n",
    "    df_scrape = pd.DataFrame(data, columns=header)\n",
    "    print(data)\n",
    "except Exception as e:\n",
    "    print('Scrape failed, using inline demo table:', e)\n",
    "    html = '<table><tr><th>Ticker</th><th>Price</th></tr><tr><td>AAA</td><td>101.2</td></tr></table>'\n",
    "    soup = BeautifulSoup(html, 'html.parser')\n",
    "    rows = [[c.get_text(strip=True) for c in tr.find_all(['th','td'])] for tr in soup.find_all('tr')]\n",
    "    header, *data = [r for r in rows if r]\n",
    "    df_scrape = pd.DataFrame(data, columns=header)\n",
    "\n",
    "if 'Price' in df_scrape.columns:\n",
    "    df_scrape['Price'] = pd.to_numeric(df_scrape['Price'], errors='coerce')\n",
    "v_scrape = validate(df_scrape, list(df_scrape.columns)); v_scrape"
   ]
  },
  {
   "cell_type": "code",
   "execution_count": 6,
   "id": "0beb3d50",
   "metadata": {},
   "outputs": [
    {
     "name": "stdout",
     "output_type": "stream",
     "text": [
      "Saved data/raw/scrape_site-yahoo_finance_table-gainers_20250818-095418.csv\n"
     ]
    }
   ],
   "source": [
    "_ = save_csv(df_scrape, prefix='scrape', site='yahoo_finance', table='gainers')"
   ]
  },
  {
   "cell_type": "markdown",
   "id": "8b3f1c98",
   "metadata": {},
   "source": [
    "## Documentation\n",
    "- API Source: https://www.alphavantage.co/query with params TIME_SERIES_DAILY for funciotn type, AAPL for symbol, compact outputsize, and my free tier api key\n",
    "- Scrape Source: https://finance.yahoo.com/gainers -> table of top gainers in the market\n",
    "- Assumptions & risks: To the API there are definitely rate limits, but in terms of the scrape since its just extracting from the http request that can be done whenever. Selector fragility was seen when the endpoint user here was changed to a premium endpoint. Therefore the coed here can only be guaranteed to work for AlphaVantage for only some time. Schema changes can be more likely than selector fragility due to endpoint changes, but they are still unlikely considering I only use a handful of columns\n",
    "\n"
   ]
  }
 ],
 "metadata": {
  "jupytext": {
   "formats": "ipynb,py:percent"
  },
  "kernelspec": {
   "display_name": "fe-course",
   "language": "python",
   "name": "python3"
  },
  "language_info": {
   "codemirror_mode": {
    "name": "ipython",
    "version": 3
   },
   "file_extension": ".py",
   "mimetype": "text/x-python",
   "name": "python",
   "nbconvert_exporter": "python",
   "pygments_lexer": "ipython3",
   "version": "3.11.13"
  }
 },
 "nbformat": 4,
 "nbformat_minor": 5
}
