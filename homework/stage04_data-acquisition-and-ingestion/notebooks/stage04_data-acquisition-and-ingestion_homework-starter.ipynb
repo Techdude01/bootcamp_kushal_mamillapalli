{
 "cells": [
  {
   "cell_type": "markdown",
   "metadata": {},
   "source": [
    "# Homework Starter — Stage 04: Data Acquisition and Ingestion\n",
    "Name: \n",
    "Date: \n",
    "\n",
    "## Objectives\n",
    "- API ingestion with secrets in `.env`\n",
    "- Scrape a permitted public table\n",
    "- Validate and save raw data to `data/raw/`"
   ]
  },
  {
   "cell_type": "code",
   "execution_count": 7,
   "metadata": {},
   "outputs": [
    {
     "name": "stdout",
     "output_type": "stream",
     "text": [
      "ALPHAVANTAGE_API_KEY loaded? True\n"
     ]
    }
   ],
   "source": [
    "import os, pathlib, datetime as dt\n",
    "import requests\n",
    "import pandas as pd\n",
    "from bs4 import BeautifulSoup\n",
    "from dotenv import load_dotenv\n",
    "\n",
    "RAW = pathlib.Path('../data/raw'); RAW.mkdir(parents=True, exist_ok=True)\n",
    "load_dotenv(); print('ALPHAVANTAGE_API_KEY loaded?', bool(os.getenv('ALPHAVANTAGE_API_KEY')))"
   ]
  },
  {
   "cell_type": "markdown",
   "metadata": {},
   "source": [
    "## Helpers (use or modify)"
   ]
  },
  {
   "cell_type": "code",
   "execution_count": 8,
   "metadata": {},
   "outputs": [],
   "source": [
    "def ts():\n",
    "    return dt.datetime.now().strftime('%Y%m%d-%H%M%S')\n",
    "\n",
    "def save_csv(df: pd.DataFrame, prefix: str, **meta):\n",
    "    mid = '_'.join([f\"{k}-{v}\" for k,v in meta.items()])\n",
    "    path = RAW / f\"{prefix}_{mid}_{ts()}.csv\"\n",
    "    df.to_csv(path, index=False)\n",
    "    print('Saved', path)\n",
    "    return path\n",
    "\n",
    "def validate(df: pd.DataFrame, required):\n",
    "    missing = [c for c in required if c not in df.columns]\n",
    "    return {'missing': missing, 'shape': df.shape, 'na_total': int(df.isna().sum().sum())}"
   ]
  },
  {
   "cell_type": "markdown",
   "metadata": {},
   "source": [
    "## Part 1 — API Pull (Required)\n",
    "Choose an endpoint (e.g., Alpha Vantage or use `yfinance` fallback)."
   ]
  },
  {
   "cell_type": "code",
   "execution_count": 9,
   "metadata": {},
   "outputs": [
    {
     "name": "stdout",
     "output_type": "stream",
     "text": [
      "df1 columns: ['index', '1. open', '2. high', '3. low', '4. close', '5. volume']\n"
     ]
    },
    {
     "data": {
      "text/plain": [
       "{'missing': [], 'shape': (100, 2), 'na_total': 0}"
      ]
     },
     "execution_count": 9,
     "metadata": {},
     "output_type": "execute_result"
    }
   ],
   "source": [
    "SYMBOL = 'AAPL'\n",
    "USE_ALPHA = bool(os.getenv('ALPHAVANTAGE_API_KEY'))\n",
    "if USE_ALPHA:\n",
    "    url = 'https://www.alphavantage.co/query'\n",
    "    #adjusted doesn't seem to work, premium endpoint instead of free;\n",
    "    # params = {'function':'TIME_SERIES_DAILY_ADJUSTED','symbol':SYMBOL,'outputsize':'compact','apikey':os.getenv('ALPHAVANTAGE_API_KEY')}\n",
    "    params = {'function':'TIME_SERIES_DAILY','symbol':SYMBOL,'outputsize':'compact','apikey':os.getenv('ALPHAVANTAGE_API_KEY')}\n",
    "    r = requests.get(url, params=params, timeout=30)\n",
    "    r.raise_for_status()\n",
    "    js = r.json()\n",
    "    key = [k for k in js if 'Time Series' in k][0]\n",
    "    df1 = pd.DataFrame(js[key]).T.reset_index()\n",
    "    print('df1 columns:', df1.columns.tolist())\n",
    "    #less columns in the free endpoint, had to remove some\n",
    "    #df_api = pd.DataFrame(js[key]).T.reset_index().rename(columns={'index':'date','5. adjusted close':'adj_close'})[['date','adj_close']]\n",
    "    df_api = pd.DataFrame(js[key]).T.reset_index().rename(columns={'index':'date',\"4. close\":\"close\"})[['date','close']]\n",
    "    df_api['date'] = pd.to_datetime(df_api['date'])\n",
    "    #df_api['adj_close'] = pd.to_numeric(df_api['adj_close'])\n",
    "    #replace with free verison\n",
    "    df_api['close'] = pd.to_numeric(df_api['close'])\n",
    "else:\n",
    "    import yfinance as yf\n",
    "    df_api = yf.download(SYMBOL, period='3mo', interval='1d').reset_index()[['Date','Adj Close']]\n",
    "    df_api.columns = ['date','adj_close']\n",
    "#adjust for close\n",
    "# v_api = validate(df_api, ['date','adj_close']); v_api\n",
    "v_api = validate(df_api, ['date','close']); v_api\n"
   ]
  },
  {
   "cell_type": "code",
   "execution_count": 10,
   "metadata": {},
   "outputs": [
    {
     "name": "stdout",
     "output_type": "stream",
     "text": [
      "Saved ../data/raw/api_source-alpha_symbol-AAPL_20250820-183541.csv\n"
     ]
    }
   ],
   "source": [
    "_ = save_csv(df_api.sort_values('date'), prefix='api', source='alpha' if USE_ALPHA else 'yfinance', symbol=SYMBOL)"
   ]
  },
  {
   "cell_type": "markdown",
   "metadata": {},
   "source": [
    "## Part 2 — Scrape a Public Table (Required)\n",
    "Replace `SCRAPE_URL` with a permitted page containing a simple table."
   ]
  },
  {
   "cell_type": "code",
   "execution_count": 11,
   "metadata": {},
   "outputs": [
    {
     "name": "stdout",
     "output_type": "stream",
     "text": [
      "[['NEGG', 'Newegg Commerce, Inc.', '', '110.64+21.24(+23.76%)', '+21.24', '+23.76%', '1.577M', '1.136M', '2.155B', '--', '+419.77%', ''], ['LNZA', 'LanzaTech Global, Inc.', '', '23.28+3.56(+18.05%)', '+3.56', '+18.05%', '126,383', '28,794', '54.001M', '--', '-88.26%', ''], ['SRRK', 'Scholar Rock Holding Corporation', '', '34.40+4.29(+14.26%)', '+4.29', '+14.26%', '5.374M', '1.417M', '3.307B', '--', '+225.27%', ''], ['STEM', 'Stem, Inc.', '', '16.47+1.93(+13.27%)', '+1.93', '+13.27%', '589,501', '521,463', '137.674M', '--', '+15.21%', ''], ['MCRB', 'Seres Therapeutics, Inc.', '', '17.94+1.69(+10.40%)', '+1.69', '+10.40%', '130,131', '119,888', '157.057M', '--', '-7.04%', ''], ['GDS', 'GDS Holdings Limited', '', '33.90+2.31(+7.31%)', '+2.31', '+7.31%', '3.427M', '2.151M', '6.756B', '308.18', '+114.02%', ''], ['CVI', 'CVR Energy, Inc.', '', '28.89+1.88(+6.96%)', '+1.88', '+6.96%', '2.319M', '1.173M', '2.904B', '--', '+9.75%', ''], ['ADI', 'Analog Devices, Inc.', '', '244.87+14.43(+6.26%)', '+14.43', '+6.26%', '8.48M', '3.687M', '121.516B', '66.36', '+1.29%', ''], ['FUTU', 'Futu Holdings Limited', '', '178.66+10.12(+6.01%)', '+10.12', '+6.01%', '5.366M', '2.349M', '24.874B', '29.93', '+168.90%', ''], ['COCO', 'The Vita Coco Company, Inc.', '', '35.92+1.98(+5.83%)', '+1.98', '+5.83%', '1.089M', '645,720', '2.041B', '33.57', '+33.89%', ''], ['WULF', 'TeraWulf Inc.', '', '9.28+0.50(+5.69%)', '+0.50', '+5.69%', '65.432M', '54.569M', '3.639B', '--', '+82.92%', ''], ['NEXT', 'NextDecade Corporation', '', '10.03+0.54(+5.69%)', '+0.54', '+5.69%', '2.554M', '2.609M', '2.628B', '--', '+91.33%', ''], ['LEU', 'Centrus Energy Corp.', '', '175.99+9.41(+5.65%)', '+9.41', '+5.65%', '1.532M', '1.481M', '3.204B', '28.57', '+320.13%', ''], ['IREN', 'IREN Limited', '', '19.76+1.03(+5.50%)', '+1.03', '+5.50%', '23.911M', '24.277M', '4.779B', '--', '+115.78%', ''], ['VKTX', 'Viking Therapeutics, Inc.', '', '25.69+1.33(+5.46%)', '+1.33', '+5.46%', '23.598M', '4.857M', '2.889B', '--', '-62.38%', ''], ['HTHT', 'H World Group Limited', '', '35.16+1.81(+5.43%)', '+1.81', '+5.43%', '5.263M', '1.763M', '10.792B', '24.59', '+16.94%', ''], ['AXSM', 'Axsome Therapeutics, Inc.', '', '116.99+5.70(+5.12%)', '+5.70', '+5.12%', '663,536', '629,187', '5.838B', '--', '+26.60%', ''], ['BZ', 'Kanzhun Limited', '', '22.08+1.01(+4.79%)', '+1.01', '+4.79%', '7.644M', '3.233M', '10.105B', '38.74', '+45.51%', ''], ['RIOT', 'Riot Platforms, Inc.', '', '12.52+0.56(+4.68%)', '+0.56', '+4.68%', '37.86M', '39.575M', '4.628B', '--', '+43.23%', ''], ['ABVX', 'ABIVAX Société Anonyme', '', '71.89+2.93(+4.25%)', '+2.93', '+4.25%', '1.997M', '1.341M', '5.506B', '--', '+497.06%', ''], ['SITM', 'SiTime Corporation', '', '221.60+8.83(+4.15%)', '+8.83', '+4.15%', '426,959', '352,279', '5.762B', '--', '+49.40%', ''], ['AS', 'Amer Sports, Inc.', '', '37.17+1.43(+4.00%)', '+1.43', '+4.00%', '7.957M', '4.176M', '20.613B', '100.46', '+152.58%', ''], ['BMNR', 'Bitmine Immersion Technologies, Inc.', '', '52.06+2.28(+4.58%)', '+2.28', '+4.58%', '52.896M', '32.415M', '9.032B', '--', '+542.32%', ''], ['MCK', 'McKesson Corporation', '', '702.94+26.03(+3.85%)', '+26.03', '+3.85%', '1.063M', '759,887', '87.434B', '28.14', '+21.26%', ''], ['NU', 'Nu Holdings Ltd.', '', '13.62+0.50(+3.81%)', '+0.50', '+3.81%', '82.847M', '64.361M', '65.817B', '28.98', '-8.89%', '']]\n"
     ]
    },
    {
     "data": {
      "text/plain": [
       "{'missing': [], 'shape': (25, 12), 'na_total': 25}"
      ]
     },
     "execution_count": 11,
     "metadata": {},
     "output_type": "execute_result"
    }
   ],
   "source": [
    "# SCRAPE_URL = 'https://example.com/markets-table'  # TODO: replace with permitted page\n",
    "SCRAPE_URL = 'https://finance.yahoo.com/gainers'  # TODO: replace with permitted page\n",
    "#good website for gaining companies by yahoo which is one of the originals\n",
    "headers = {'User-Agent':'AFE-Homework/1.0'}\n",
    "try:\n",
    "    resp = requests.get(SCRAPE_URL, headers=headers, timeout=30); resp.raise_for_status()\n",
    "    soup = BeautifulSoup(resp.text, 'html.parser')\n",
    "    rows = [[c.get_text(strip=True) for c in tr.find_all(['th','td'])] for tr in soup.find_all('tr')]\n",
    "    header, *data = [r for r in rows if r]\n",
    "    df_scrape = pd.DataFrame(data, columns=header)\n",
    "    print(data)\n",
    "except Exception as e:\n",
    "    print('Scrape failed, using inline demo table:', e)\n",
    "    html = '<table><tr><th>Ticker</th><th>Price</th></tr><tr><td>AAA</td><td>101.2</td></tr></table>'\n",
    "    soup = BeautifulSoup(html, 'html.parser')\n",
    "    rows = [[c.get_text(strip=True) for c in tr.find_all(['th','td'])] for tr in soup.find_all('tr')]\n",
    "    header, *data = [r for r in rows if r]\n",
    "    df_scrape = pd.DataFrame(data, columns=header)\n",
    "\n",
    "if 'Price' in df_scrape.columns:\n",
    "    df_scrape['Price'] = pd.to_numeric(df_scrape['Price'], errors='coerce')\n",
    "v_scrape = validate(df_scrape, list(df_scrape.columns)); v_scrape"
   ]
  },
  {
   "cell_type": "code",
   "execution_count": 12,
   "metadata": {},
   "outputs": [
    {
     "name": "stdout",
     "output_type": "stream",
     "text": [
      "Saved ../data/raw/scrape_site-yahoo_finance_table-gainers_20250820-183542.csv\n"
     ]
    }
   ],
   "source": [
    "_ = save_csv(df_scrape, prefix='scrape', site='yahoo_finance', table='gainers')"
   ]
  },
  {
   "cell_type": "markdown",
   "metadata": {},
   "source": [
    "## Documentation\n",
    "- API Source: https://www.alphavantage.co/query with params TIME_SERIES_DAILY for funciotn type, AAPL for symbol, compact outputsize, and my free tier api key\n",
    "- Scrape Source: https://finance.yahoo.com/gainers -> table of top gainers in the market\n",
    "- Assumptions & risks: To the API there are definitely rate limits, but in terms of the scrape since its just extracting from the http request that can be done whenever. Selector fragility was seen when the endpoint user here was changed to a premium endpoint. Therefore the coed here can only be guaranteed to work for AlphaVantage for only some time. Schema changes can be more likely than selector fragility due to endpoint changes, but they are still unlikely considering I only use a handful of columns\n",
    "\n"
   ]
  }
 ],
 "metadata": {
  "kernelspec": {
   "display_name": "fe-course",
   "language": "python",
   "name": "python3"
  },
  "language_info": {
   "codemirror_mode": {
    "name": "ipython",
    "version": 3
   },
   "file_extension": ".py",
   "mimetype": "text/x-python",
   "name": "python",
   "nbconvert_exporter": "python",
   "pygments_lexer": "ipython3",
   "version": "3.11.13"
  }
 },
 "nbformat": 4,
 "nbformat_minor": 5
}
