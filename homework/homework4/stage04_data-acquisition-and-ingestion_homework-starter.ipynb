{
 "cells": [
  {
   "cell_type": "markdown",
   "metadata": {},
   "source": [
    "# Homework Starter — Stage 04: Data Acquisition and Ingestion\n",
    "Name: \n",
    "Date: \n",
    "\n",
    "## Objectives\n",
    "- API ingestion with secrets in `.env`\n",
    "- Scrape a permitted public table\n",
    "- Validate and save raw data to `data/raw/`"
   ]
  },
  {
   "cell_type": "code",
   "execution_count": 2,
   "metadata": {},
   "outputs": [
    {
     "name": "stdout",
     "output_type": "stream",
     "text": [
      "ALPHAVANTAGE_API_KEY loaded? True\n"
     ]
    }
   ],
   "source": [
    "import os, pathlib, datetime as dt\n",
    "import requests\n",
    "import pandas as pd\n",
    "from bs4 import BeautifulSoup\n",
    "from dotenv import load_dotenv\n",
    "\n",
    "RAW = pathlib.Path('data/raw'); RAW.mkdir(parents=True, exist_ok=True)\n",
    "load_dotenv(); print('ALPHAVANTAGE_API_KEY loaded?', bool(os.getenv('ALPHAVANTAGE_API_KEY')))"
   ]
  },
  {
   "cell_type": "markdown",
   "metadata": {},
   "source": [
    "## Helpers (use or modify)"
   ]
  },
  {
   "cell_type": "code",
   "execution_count": 3,
   "metadata": {},
   "outputs": [],
   "source": [
    "def ts():\n",
    "    return dt.datetime.now().strftime('%Y%m%d-%H%M%S')\n",
    "\n",
    "def save_csv(df: pd.DataFrame, prefix: str, **meta):\n",
    "    mid = '_'.join([f\"{k}-{v}\" for k,v in meta.items()])\n",
    "    path = RAW / f\"{prefix}_{mid}_{ts()}.csv\"\n",
    "    df.to_csv(path, index=False)\n",
    "    print('Saved', path)\n",
    "    return path\n",
    "\n",
    "def validate(df: pd.DataFrame, required):\n",
    "    missing = [c for c in required if c not in df.columns]\n",
    "    return {'missing': missing, 'shape': df.shape, 'na_total': int(df.isna().sum().sum())}"
   ]
  },
  {
   "cell_type": "markdown",
   "metadata": {},
   "source": [
    "## Part 1 — API Pull (Required)\n",
    "Choose an endpoint (e.g., Alpha Vantage or use `yfinance` fallback)."
   ]
  },
  {
   "cell_type": "code",
   "execution_count": 20,
   "metadata": {},
   "outputs": [
    {
     "name": "stdout",
     "output_type": "stream",
     "text": [
      "df1 columns: ['index', '1. open', '2. high', '3. low', '4. close', '5. volume']\n"
     ]
    },
    {
     "data": {
      "text/plain": [
       "{'missing': [], 'shape': (100, 2), 'na_total': 0}"
      ]
     },
     "execution_count": 20,
     "metadata": {},
     "output_type": "execute_result"
    }
   ],
   "source": [
    "SYMBOL = 'AAPL'\n",
    "USE_ALPHA = bool(os.getenv('ALPHAVANTAGE_API_KEY'))\n",
    "if USE_ALPHA:\n",
    "    url = 'https://www.alphavantage.co/query'\n",
    "    #adjusted doesn't seem to work, premium endpoint instead of free;\n",
    "    # params = {'function':'TIME_SERIES_DAILY_ADJUSTED','symbol':SYMBOL,'outputsize':'compact','apikey':os.getenv('ALPHAVANTAGE_API_KEY')}\n",
    "    params = {'function':'TIME_SERIES_DAILY','symbol':SYMBOL,'outputsize':'compact','apikey':os.getenv('ALPHAVANTAGE_API_KEY')}\n",
    "    r = requests.get(url, params=params, timeout=30)\n",
    "    r.raise_for_status()\n",
    "    js = r.json()\n",
    "    key = [k for k in js if 'Time Series' in k][0]\n",
    "    df1 = pd.DataFrame(js[key]).T.reset_index()\n",
    "    print('df1 columns:', df1.columns.tolist())\n",
    "    #less columns in the free endpoint, had to remove some\n",
    "    #df_api = pd.DataFrame(js[key]).T.reset_index().rename(columns={'index':'date','5. adjusted close':'adj_close'})[['date','adj_close']]\n",
    "    df_api = pd.DataFrame(js[key]).T.reset_index().rename(columns={'index':'date',\"4. close\":\"close\"})[['date','close']]\n",
    "    df_api['date'] = pd.to_datetime(df_api['date'])\n",
    "    #df_api['adj_close'] = pd.to_numeric(df_api['adj_close'])\n",
    "    #replace with free verison\n",
    "    df_api['close'] = pd.to_numeric(df_api['close'])\n",
    "else:\n",
    "    import yfinance as yf\n",
    "    df_api = yf.download(SYMBOL, period='3mo', interval='1d').reset_index()[['Date','Adj Close']]\n",
    "    df_api.columns = ['date','adj_close']\n",
    "#adjust for close\n",
    "# v_api = validate(df_api, ['date','adj_close']); v_api\n",
    "v_api = validate(df_api, ['date','close']); v_api\n"
   ]
  },
  {
   "cell_type": "code",
   "execution_count": 21,
   "metadata": {},
   "outputs": [
    {
     "name": "stdout",
     "output_type": "stream",
     "text": [
      "Saved data/raw/api_source-alpha_symbol-AAPL_20250817-212427.csv\n"
     ]
    }
   ],
   "source": [
    "_ = save_csv(df_api.sort_values('date'), prefix='api', source='alpha' if USE_ALPHA else 'yfinance', symbol=SYMBOL)"
   ]
  },
  {
   "cell_type": "markdown",
   "metadata": {},
   "source": [
    "## Part 2 — Scrape a Public Table (Required)\n",
    "Replace `SCRAPE_URL` with a permitted page containing a simple table."
   ]
  },
  {
   "cell_type": "code",
   "execution_count": null,
   "metadata": {},
   "outputs": [
    {
     "name": "stdout",
     "output_type": "stream",
     "text": [
      "[['RUN', 'Sunrun Inc.', '', '13.92+3.44(+32.82%)', '+3.44', '+32.82%', '76.432M', '24.218M', '3.212B', '--', '-31.29%', ''], ['NXT', 'Nextracker Inc.', '', '60.58+6.59(+12.21%)', '+6.59', '+12.21%', '6.048M', '2.503M', '9.195B', '16.51', '+50.40%', ''], ['UNH', 'UnitedHealth Group Incorporated', '', '304.01+32.52(+11.98%)', '+32.52', '+11.98%', '67.496M', '17.987M', '275.334B', '13.16', '-47.47%', ''], ['FSLR', 'First Solar, Inc.', '', '199.95+19.90(+11.05%)', '+19.90', '+11.05%', '10.932M', '4.116M', '21.444B', '17.09', '-12.45%', ''], ['BHC', 'Bausch Health Companies Inc.', '', '8.34+0.83(+11.05%)', '+0.83', '+11.05%', '8.902M', '2.783M', '3.084B', '32.08', '+45.04%', ''], ['HSAI', 'Hesai Group', '', '25.59+2.27(+9.73%)', '+2.27', '+9.73%', '11.791M', '3.431M', '3.39B', '232.64', '+464.90%', ''], ['ARWR', 'Arrowhead Pharmaceuticals, Inc.', '', '20.51+1.73(+9.21%)', '+1.73', '+9.21%', '5.202M', '1.933M', '2.836B', '--', '-12.16%', ''], ['NU', 'Nu Holdings Ltd.', '', '13.10+1.09(+9.08%)', '+1.09', '+9.08%', '130.401M', '63.181M', '63.304B', '27.87', '-9.34%', ''], ['LYFT', 'Lyft, Inc.', '', '15.82+1.20(+8.21%)', '+1.20', '+8.21%', '35.423M', '16.023M', '6.43B', '68.78', '+36.38%', ''], ['GTLB', 'GitLab Inc.', '', '44.28+3.33(+8.13%)', '+3.33', '+8.13%', '5.416M', '4.58M', '7.315B', '492.00', '-4.49%', ''], ['ENPH', 'Enphase Energy, Inc.', '', '34.84+2.62(+8.13%)', '+2.62', '+8.13%', '20.906M', '9.266M', '4.555B', '27.01', '-70.90%', ''], ['ICUI', 'ICU Medical, Inc.', '', '120.95+9.05(+8.09%)', '+9.05', '+8.09%', '844,607', '259,643', '2.986B', '--', '-22.40%', ''], ['SRPT', 'Sarepta Therapeutics, Inc.', '', '21.81+1.51(+7.43%)', '+1.51', '+7.43%', '8.85M', '11.757M', '2.131B', '--', '-84.11%', ''], ['ZETA', 'Zeta Global Holdings Corp.', '', '19.13+1.32(+7.41%)', '+1.32', '+7.41%', '9.375M', '9.108M', '4.554B', '--', '-21.08%', ''], ['OS', 'OneStream, Inc.', '', '21.15+1.36(+6.87%)', '+1.36', '+6.87%', '5.324M', '1.581M', '5.136B', '--', '-27.82%', ''], ['MDB', 'MongoDB, Inc.', '', '218.26+13.89(+6.80%)', '+13.89', '+6.80%', '2.157M', '2.465M', '17.835B', '--', '-15.06%', ''], ['OSCR', 'Oscar Health, Inc.', '', '15.64+0.96(+6.54%)', '+0.96', '+6.54%', '24.634M', '25.437M', '4.044B', '--', '-11.24%', ''], ['SEE', 'Sealed Air Corporation', '', '31.58+1.74(+5.83%)', '+1.74', '+5.83%', '4.086M', '1.303M', '4.645B', '15.56', '-6.43%', ''], ['CNC', 'Centene Corporation', '', '28.49+1.56(+5.79%)', '+1.56', '+5.79%', '17.382M', '14.124M', '13.992B', '6.92', '-63.61%', ''], ['FINV', 'FinVolution Group', '', '9.33+0.51(+5.78%)', '+0.51', '+5.78%', '1.721M', '1.565M', '2.364B', '6.71', '+61.14%', ''], ['FROG', 'JFrog Ltd.', '', '45.11+2.38(+5.57%)', '+2.38', '+5.57%', '2.109M', '1.141M', '5.266B', '--', '+64.34%', ''], ['TPR', 'Tapestry, Inc.', '', '100.74+5.05(+5.28%)', '+5.05', '+5.28%', '6.808M', '3.95M', '20.966B', '122.85', '+148.25%', ''], ['UA', 'Under Armour, Inc.', '', '5.01+0.25(+5.25%)', '+0.25', '+5.25%', '14.739M', '3.525M', '2.184B', '22.77', '-37.45%', ''], ['UAA', 'Under Armour, Inc.', '', '5.17+0.25(+5.08%)', '+0.25', '+5.08%', '30.513M', '12.116M', '2.184B', '23.50', '-37.79%', ''], ['TLX', 'Telix Pharmaceuticals Limited', '', '11.54+0.55(+5.00%)', '+0.55', '+5.00%', '147,011', '52,656', '3.863B', '128.22', '-23.83%', '']]\n"
     ]
    },
    {
     "data": {
      "text/plain": [
       "{'missing': [], 'shape': (25, 12), 'na_total': 25}"
      ]
     },
     "execution_count": 10,
     "metadata": {},
     "output_type": "execute_result"
    }
   ],
   "source": [
    "# SCRAPE_URL = 'https://example.com/markets-table'  # TODO: replace with permitted page\n",
    "SCRAPE_URL = 'https://finance.yahoo.com/gainers'  # TODO: replace with permitted page\n",
    "#good website for gaining companies by yahoo which is one of the originals\n",
    "headers = {'User-Agent':'AFE-Homework/1.0'}\n",
    "try:\n",
    "    resp = requests.get(SCRAPE_URL, headers=headers, timeout=30); resp.raise_for_status()\n",
    "    soup = BeautifulSoup(resp.text, 'html.parser')\n",
    "    rows = [[c.get_text(strip=True) for c in tr.find_all(['th','td'])] for tr in soup.find_all('tr')]\n",
    "    header, *data = [r for r in rows if r]\n",
    "    df_scrape = pd.DataFrame(data, columns=header)\n",
    "    print(data)\n",
    "except Exception as e:\n",
    "    print('Scrape failed, using inline demo table:', e)\n",
    "    html = '<table><tr><th>Ticker</th><th>Price</th></tr><tr><td>AAA</td><td>101.2</td></tr></table>'\n",
    "    soup = BeautifulSoup(html, 'html.parser')\n",
    "    rows = [[c.get_text(strip=True) for c in tr.find_all(['th','td'])] for tr in soup.find_all('tr')]\n",
    "    header, *data = [r for r in rows if r]\n",
    "    df_scrape = pd.DataFrame(data, columns=header)\n",
    "\n",
    "if 'Price' in df_scrape.columns:\n",
    "    df_scrape['Price'] = pd.to_numeric(df_scrape['Price'], errors='coerce')\n",
    "v_scrape = validate(df_scrape, list(df_scrape.columns)); v_scrape"
   ]
  },
  {
   "cell_type": "code",
   "execution_count": 11,
   "metadata": {},
   "outputs": [
    {
     "name": "stdout",
     "output_type": "stream",
     "text": [
      "Saved data/raw/scrape_site-example_table-markets_20250817-211839.csv\n"
     ]
    }
   ],
   "source": [
    "_ = save_csv(df_scrape, prefix='scrape', site='example', table='markets')"
   ]
  },
  {
   "cell_type": "markdown",
   "metadata": {},
   "source": [
    "## Documentation\n",
    "- API Source: https://www.alphavantage.co/query with params\n",
    "TIME_SERIES_DAILY for funciotn type, AAPL for symbol, compact outputsize, and my free tier api key\n",
    "- Scrape Source: (URL/table description)\n",
    "- Assumptions & risks: (rate limits, selector fragility, schema changes)\n",
    "- Confirm `.env` is not committed.\n"
   ]
  }
 ],
 "metadata": {
  "kernelspec": {
   "display_name": "fe-course",
   "language": "python",
   "name": "python3"
  },
  "language_info": {
   "codemirror_mode": {
    "name": "ipython",
    "version": 3
   },
   "file_extension": ".py",
   "mimetype": "text/x-python",
   "name": "python",
   "nbconvert_exporter": "python",
   "pygments_lexer": "ipython3",
   "version": "3.11.13"
  }
 },
 "nbformat": 4,
 "nbformat_minor": 5
}
