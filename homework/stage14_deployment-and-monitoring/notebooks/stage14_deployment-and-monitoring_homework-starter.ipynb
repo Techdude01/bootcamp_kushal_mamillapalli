{
 "cells": [
  {
   "cell_type": "markdown",
   "metadata": {},
   "source": [
    "# Homework Starter — Stage 14: Deployment & Monitoring\n",
    "\n",
    "Use this template to draft your reflection and (optionally) sketch a dashboard."
   ]
  },
  {
   "cell_type": "markdown",
   "metadata": {},
   "source": [
    "## 1) Reflection (200–300 words)\n",
    "\n",
    "**Risks if deployed:**\n",
    "The fraud detection model faces four critical failure modes: (1) Schema Changes - if the data structure changes (new columns, different V1-V28 features), the model will fail completely because it expects specific features. (2) Concept Drift - as fraud patterns evolve over time, the model's understanding becomes outdated and it misses new fraud types, reducing recall below 90%. (3) Latency spikes - if the API becomes slow, legitimate transactions get blocked, damaging customer experience and revenue. (4) Silent degradation - the model appears stable on surface metrics but secretly gets worse at detecting expensive fraud, leading to increased financial losses without obvious warning signs.\n",
    "\n",
    "**Monitoring metrics across four layers:**\n",
    "- **Data Layer**: Schema Changes using Schema Hash Mismatches; this is importnat to makes ure the data is the same and does not change, or have other columns that mess up the model. \n",
    "- **Model Layer**: Concept Drift would be monitored with Rolling MAE to make sure the old patterns are still being observed in the data and predictions. \n",
    "- **System Layer**: Latency spikes would be monitored with p95 latency in miliseconds to make sure there are no issues accessing the API or the timeliness\n",
    "- **Business Layer**: Silent degradation would be handled with Calibration and business KPI shift, meaning that the hard to see worsened performance can be fixed with business metrics being a sign and Calibration working to make sure the model's Confidence is actually good. \n",
    "\n",
    "**Ownership and handoffs:**\n",
    "Data Science team owns model retraining, seen with probelms in the Model layer (concept drift) or from the business end due to silent degradation. The platform/system team holds the repsonsibility of making sure there are no latency spikes and access ig all good. The Business team would use their metrics to make sure the model isn't actually missing fraud cases to cause huge losses, and send that data to Data Science for them to fix. Finally, the Data Science team also onws managing the data layer to make sure the schema matches throughout usage. "
   ]
  },
  {
   "cell_type": "markdown",
   "metadata": {},
   "source": [
    "## 2) Optional: Dashboard Sketch\n",
    "Describe panels and key charts. You can also attach an image file in your repo (png/pdf)."
   ]
  },
  {
   "cell_type": "code",
   "execution_count": null,
   "metadata": {},
   "outputs": [
    {
     "data": {
      "text/plain": [
       "{'data': ['freshness_minutes', 'null_rate', 'schema_hash'],\n",
       " 'model': ['rolling_mae_or_auc', 'calibration_error'],\n",
       " 'system': ['p95_latency_ms', 'error_rate'],\n",
       " 'business': ['approval_rate', 'bad_rate']}"
      ]
     },
     "execution_count": 1,
     "metadata": {},
     "output_type": "execute_result"
    }
   ],
   "source": [
    "# Optional helper: simple structure to list metrics\n",
    "monitoring = {\n",
    "    'data': ['freshness_minutes', 'null_rate', 'schema_hash'],\n",
    "    'model': ['rolling_mae_or_auc', 'calibration_error'],\n",
    "    'system': ['p95_latency_ms', 'error_rate'],\n",
    "    'business': ['approval_rate', 'bad_rate']\n",
    "}\n",
    "monitoring"
   ]
  }
 ],
 "metadata": {
  "kernelspec": {
   "display_name": "fe-course",
   "language": "python",
   "name": "python3"
  },
  "language_info": {
   "codemirror_mode": {
    "name": "ipython",
    "version": 3
   },
   "file_extension": ".py",
   "mimetype": "text/x-python",
   "name": "python",
   "nbconvert_exporter": "python",
   "pygments_lexer": "ipython3",
   "version": "3.11.13"
  }
 },
 "nbformat": 4,
 "nbformat_minor": 5
}
