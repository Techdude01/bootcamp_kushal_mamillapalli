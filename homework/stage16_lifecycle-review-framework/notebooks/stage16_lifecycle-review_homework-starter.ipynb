{
 "cells": [
  {
   "cell_type": "markdown",
   "metadata": {},
   "source": [
    "# Stage 16 Homework Starter\n",
    "\n",
    "This notebook is a starting point for polishing your final repo and lifecycle mapping."
   ]
  },
  {
   "cell_type": "markdown",
   "metadata": {},
   "source": [
    "## Checklist Template\n",
    " - Add checklist elements, as in the examples below, to make sure you cover everything you would like to accomplish\n",
    "- Update this checklist as you finalize your repo."
   ]
  },
  {
   "cell_type": "code",
   "execution_count": 3,
   "metadata": {},
   "outputs": [
    {
     "data": {
      "text/plain": [
       "{'repo_clean': True,\n",
       " 'repo_complete': True,\n",
       " 'readme_complete': True,\n",
       " 'lifecycle_map': True,\n",
       " 'summary_doc': True,\n",
       " 'framework_guide_table': True}"
      ]
     },
     "execution_count": 3,
     "metadata": {},
     "output_type": "execute_result"
    }
   ],
   "source": [
    "checklist = {\n",
    "    \"repo_clean\": True,\n",
    "    \"repo_complete\": True,\n",
    "    \"readme_complete\": True,\n",
    "    \"lifecycle_map\": True,\n",
    "    \"summary_doc\": True,\n",
    "    \"framework_guide_table\": True\n",
    "}\n",
    "checklist"
   ]
  },
  {
   "cell_type": "markdown",
   "metadata": {},
   "source": [
    "## Reflection Prompts\n",
    "- What stage of the lifecycle was hardest for you, and why?\n",
    "- Ansewr in md file.\n",
    "- Which part of your repo is most reusable in a future project?\n",
    "- I think the best part are the utility functions since, especially the API endpoints because they are easy to use and invoke. Future projects can have vastly different data storage and training, but the API stays somewhat the same in terms of the health and prediction. \n",
    "- If a teammate had to pick up your repo tomorrow, what would help them most?\n",
    "- I think the thing that would help them the most would be to check the README.md, along with some of the other documents before looking at the code."
   ]
  }
 ],
 "metadata": {
  "kernelspec": {
   "display_name": "fe-course",
   "language": "python",
   "name": "python3"
  },
  "language_info": {
   "codemirror_mode": {
    "name": "ipython",
    "version": 3
   },
   "file_extension": ".py",
   "mimetype": "text/x-python",
   "name": "python",
   "nbconvert_exporter": "python",
   "pygments_lexer": "ipython3",
   "version": "3.11.13"
  }
 },
 "nbformat": 4,
 "nbformat_minor": 2
}
