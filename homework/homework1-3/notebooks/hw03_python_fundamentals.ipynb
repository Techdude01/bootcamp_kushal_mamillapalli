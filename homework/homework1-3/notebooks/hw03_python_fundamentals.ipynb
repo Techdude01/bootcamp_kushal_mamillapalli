{
 "cells": [
  {
   "cell_type": "markdown",
   "id": "d89822b5",
   "metadata": {},
   "source": [
    "# Stage 3: Python Fundamentals"
   ]
  },
  {
   "cell_type": "code",
   "execution_count": 1,
   "id": "c9a2727b",
   "metadata": {},
   "outputs": [],
   "source": [
    "import numpy as np\n",
    "import pandas as pd\n",
    "import matplotlib.pyplot as plt\n",
    "import os"
   ]
  },
  {
   "cell_type": "code",
   "execution_count": null,
   "id": "73387bf3",
   "metadata": {},
   "outputs": [
    {
     "name": "stdout",
     "output_type": "stream",
     "text": [
      "45.6 ms ± 1.4 ms per loop (mean ± std. dev. of 7 runs, 10 loops each)\n",
      "743 μs ± 66.6 μs per loop (mean ± std. dev. of 7 runs, 1,000 loops each)\n"
     ]
    }
   ],
   "source": [
    "#vectorized vs normal operation\n",
    "big_arr= np.arange(1_000_000)\n",
    "%timeit [x * 3 for x in big_arr]\n",
    "%timeit big_arr*3\n",
    "#time almost the same as with example *2 but slightly slower for vectorized loop"
   ]
  },
  {
   "cell_type": "code",
   "execution_count": 5,
   "id": "c4a945b2",
   "metadata": {},
   "outputs": [],
   "source": [
    "df = pd.read_csv('../data/starter_data.csv')\n",
    "if not os.path.exists('../data/processed'):\n",
    "    os.makedirs('../data/processed')\n",
    "#entire summary, but groupby aggregated by category\n",
    "summary = df.groupby('category').mean(numeric_only=True).reset_index()\n",
    "summary.to_csv('../data/processed/summary.csv', index=False)\n"
   ]
  }
 ],
 "metadata": {
  "kernelspec": {
   "display_name": "fe-course",
   "language": "python",
   "name": "python3"
  },
  "language_info": {
   "codemirror_mode": {
    "name": "ipython",
    "version": 3
   },
   "file_extension": ".py",
   "mimetype": "text/x-python",
   "name": "python",
   "nbconvert_exporter": "python",
   "pygments_lexer": "ipython3",
   "version": "3.11.13"
  }
 },
 "nbformat": 4,
 "nbformat_minor": 5
}
